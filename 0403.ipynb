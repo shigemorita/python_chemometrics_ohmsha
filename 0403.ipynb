{
 "cells": [
  {
   "cell_type": "markdown",
   "metadata": {},
   "source": [
    "## Python で始める機器分析データの解析とケモメトリックス  \n",
    "### 4.3. モーメント"
   ]
  },
  {
   "cell_type": "code",
   "execution_count": null,
   "metadata": {},
   "outputs": [],
   "source": [
    "import pandas\n",
    "filename = \"data4.csv\"\n",
    "data = pandas.read_csv(filename, header=0, index_col=0).T\n",
    "data.index = pandas.read_csv(filename, header=None, index_col=0).iloc[0].values"
   ]
  },
  {
   "cell_type": "code",
   "execution_count": null,
   "metadata": {},
   "outputs": [],
   "source": [
    "xmin, xmax = 700, 840\n",
    "df = data.iloc[:, (xmin <= data.columns) & (data.columns <= xmax)]\n",
    "df.T.plot(legend=None)"
   ]
  },
  {
   "cell_type": "markdown",
   "metadata": {},
   "source": [
    "0次モーメント（面積）  \n",
    "$$\n",
    "A=\\int_{-\\infty}^{\\infty}f(x) \\mathsf{d} x\n",
    "$$ "
   ]
  },
  {
   "cell_type": "code",
   "execution_count": null,
   "metadata": {},
   "outputs": [],
   "source": [
    "#p.069\n",
    "zeroth = df.sum(axis=1)\n",
    "zeroth"
   ]
  },
  {
   "cell_type": "markdown",
   "metadata": {},
   "source": [
    "1次モーメント（重心位置）  \n",
    "$$\n",
    "\\mu=\\int_{-\\infty}^{\\infty}xf(x) \\mathsf{d} x \\, \\bigg/ \\int_{-\\infty}^{\\infty}f(x) \\mathsf{d} x\n",
    "$$ "
   ]
  },
  {
   "cell_type": "code",
   "execution_count": null,
   "metadata": {},
   "outputs": [],
   "source": [
    "#p.069\n",
    "first = (df.columns * df).sum(axis=1) / df.sum(axis=1)\n",
    "first"
   ]
  },
  {
   "cell_type": "markdown",
   "metadata": {},
   "source": [
    "2次モーメント（重心周りの分散）  \n",
    "$$\n",
    "\\sigma ^2=\\int_{-\\infty}^{\\infty} (x-\\mu )^2f(x) \\mathsf{d} x \\, \\bigg/ \\int_{-\\infty}^{\\infty}f(x) \\mathsf{d} x\n",
    "$$ "
   ]
  },
  {
   "cell_type": "code",
   "execution_count": null,
   "metadata": {},
   "outputs": [],
   "source": [
    "#p.069\n",
    "second = (((df.columns.values.reshape(-1, 1) - first.values) ** 2).T * df).sum(axis=1) / df.sum(axis=1)\n",
    "width = second ** 0.5\n",
    "width"
   ]
  },
  {
   "cell_type": "markdown",
   "metadata": {},
   "source": [
    "(c) Shigeaki Morita"
   ]
  }
 ],
 "metadata": {
  "interpreter": {
   "hash": "398c91425ba9501ad3ceb4348a18eb4e653d71098c9fe91723be7ca895e75769"
  },
  "kernelspec": {
   "display_name": "Python 3 (ipykernel)",
   "language": "python",
   "name": "python3"
  },
  "language_info": {
   "codemirror_mode": {
    "name": "ipython",
    "version": 3
   },
   "file_extension": ".py",
   "mimetype": "text/x-python",
   "name": "python",
   "nbconvert_exporter": "python",
   "pygments_lexer": "ipython3",
   "version": "3.9.12"
  }
 },
 "nbformat": 4,
 "nbformat_minor": 4
}
