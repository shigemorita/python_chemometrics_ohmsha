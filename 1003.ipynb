{
 "cells": [
  {
   "cell_type": "markdown",
   "metadata": {},
   "source": [
    "## Python で始める機器分析データの解析とケモメトリックス  \n",
    "\n",
    "### 10.3. Multivariate Curve Resolution (MCR)"
   ]
  },
  {
   "cell_type": "code",
   "execution_count": null,
   "metadata": {},
   "outputs": [],
   "source": [
    "import pandas"
   ]
  },
  {
   "cell_type": "code",
   "execution_count": null,
   "metadata": {},
   "outputs": [],
   "source": [
    "filename = \"data6.csv\"\n",
    "data = pandas.read_csv(filename, header=0, index_col=0).T\n",
    "data.T.plot()"
   ]
  },
  {
   "cell_type": "code",
   "execution_count": null,
   "metadata": {},
   "outputs": [],
   "source": [
    "init_spec = pandas.DataFrame([data.iloc[0].values, data.iloc[10].values], columns = data.columns)\n",
    "init_spec.T.plot()"
   ]
  },
  {
   "cell_type": "markdown",
   "metadata": {},
   "source": [
    "pip show pymcr  \n",
    "conda install -c conda-forge pymcr"
   ]
  },
  {
   "cell_type": "code",
   "execution_count": null,
   "metadata": {},
   "outputs": [],
   "source": [
    "from pymcr.mcr import McrAR\n",
    "mcr = McrAR()\n",
    "mcr.fit(data.values, ST=init_spec)\n",
    "ST_opt = pandas.DataFrame(mcr.ST_opt_.T, index=data.columns.T)\n",
    "ST_opt.plot()\n",
    "C_opt = pandas.DataFrame(mcr.C_opt_, index=data.index)\n",
    "C_opt.plot()"
   ]
  },
  {
   "cell_type": "code",
   "execution_count": null,
   "metadata": {},
   "outputs": [],
   "source": [
    "init_conc = C_opt\n",
    "mcr = McrAR()\n",
    "mcr.fit(data.values, C=init_conc)\n",
    "ST_opt = pandas.DataFrame(mcr.ST_opt_.T, index=data.columns.T)\n",
    "ST_opt.plot()\n",
    "C_opt = pandas.DataFrame(mcr.C_opt_, index=data.index)\n",
    "C_opt.plot()"
   ]
  },
  {
   "cell_type": "markdown",
   "metadata": {},
   "source": [
    "(c) Shigeaki Morita"
   ]
  }
 ],
 "metadata": {
  "interpreter": {
   "hash": "398c91425ba9501ad3ceb4348a18eb4e653d71098c9fe91723be7ca895e75769"
  },
  "kernelspec": {
   "display_name": "Python 3.8.11 64-bit ('base': conda)",
   "name": "python3"
  },
  "language_info": {
   "codemirror_mode": {
    "name": "ipython",
    "version": 3
   },
   "file_extension": ".py",
   "mimetype": "text/x-python",
   "name": "python",
   "nbconvert_exporter": "python",
   "pygments_lexer": "ipython3",
   "version": "3.8.13"
  },
  "orig_nbformat": 4
 },
 "nbformat": 4,
 "nbformat_minor": 2
}
