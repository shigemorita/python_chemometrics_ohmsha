{
 "cells": [
  {
   "cell_type": "markdown",
   "metadata": {},
   "source": [
    "## Python で始める機器分析データの解析とケモメトリックス  \n",
    "### 3.5. エラーバー  \n",
    "matplotlib.pyplot.errorbar  \n",
    "https://matplotlib.org/stable/api/_as_gen/matplotlib.pyplot.errorbar.html"
   ]
  },
  {
   "cell_type": "code",
   "execution_count": null,
   "metadata": {},
   "outputs": [],
   "source": [
    "import numpy\n",
    "import pandas\n",
    "from matplotlib import pyplot\n",
    "df = pandas.read_csv(\"prop3.csv\", header=0, index_col=0)\n",
    "ar = df.iloc[:, 0].tolist()"
   ]
  },
  {
   "cell_type": "markdown",
   "metadata": {},
   "source": [
    "エラーバーの追加（標準偏差）"
   ]
  },
  {
   "cell_type": "code",
   "execution_count": null,
   "metadata": {},
   "outputs": [],
   "source": [
    "x = 1  # 横軸の値\n",
    "y = numpy.mean(ar)  # 縦軸の値（1次元配列 ar の平均）\n",
    "pyplot.scatter(x, y)  # 値のプロット\n",
    "error = numpy.std(ar, ddof=1)  # エラーバーの範囲（標準偏差）\n",
    "pyplot.errorbar(x, y, yerr=error)  # エラーバーの追加"
   ]
  },
  {
   "cell_type": "markdown",
   "metadata": {},
   "source": [
    "pandas.DataFrameオブジェクトの平均にエラーバーの追加（標準偏差）"
   ]
  },
  {
   "cell_type": "code",
   "execution_count": null,
   "metadata": {},
   "outputs": [],
   "source": [
    "error = df.std(ddof=1)  # エラーバーの範囲（標準偏差）\n",
    "df.mean().plot.bar(yerr=error)  # エラーバーのプロット\n",
    "print(error)"
   ]
  },
  {
   "cell_type": "markdown",
   "metadata": {},
   "source": [
    "自由度が n-1 である t 分布の確率密度関数 (PDF) と累積分布関数 (CDF) \n",
    "$$\n",
    "t = \\frac{\\bar{x} - \\mu}{u \\big/ \\sqrt{n}}\n",
    "$$\n",
    "scipy.stats.t  \n",
    "https://docs.scipy.org/doc/scipy/reference/generated/scipy.stats.t.html"
   ]
  },
  {
   "cell_type": "code",
   "execution_count": null,
   "metadata": {},
   "outputs": [],
   "source": [
    "from scipy.stats import t\n",
    "n = len(ar)  # サンプルサイズ\n",
    "x = numpy.arange(-4, 4, 0.1)\n",
    "y = t(n - 1).pdf(x)  # 確率密度関数 (PDF)\n",
    "pyplot.plot(x, y, label=\"PDF\")\n",
    "y = t(n - 1).cdf(x)  # 累積分布関数 (CDF)\n",
    "pyplot.plot(x, y, label=\"CDF\")\n",
    "pyplot.legend()"
   ]
  },
  {
   "cell_type": "markdown",
   "metadata": {},
   "source": [
    "パーセント点"
   ]
  },
  {
   "cell_type": "code",
   "execution_count": null,
   "metadata": {},
   "outputs": [],
   "source": [
    "print(t(n - 1).ppf(0.025))  # 自由度が n-1 = 79 であるt分布の2.5%点\n",
    "print(t(n - 1).ppf(0.975))  # 自由度が n-1 = 79 であるt分布の97.5%点"
   ]
  },
  {
   "cell_type": "markdown",
   "metadata": {},
   "source": [
    "エラーバーの追加（95%信頼区間）\n",
    "$$\n",
    "\\bar{x} - x_{97.5\\%} \\frac{u}{\\sqrt{n}} \\leq \\mu \\leq \\bar{x} + x_{97.5\\%} \\frac{u}{\\sqrt{n}}\n",
    "$$"
   ]
  },
  {
   "cell_type": "code",
   "execution_count": null,
   "metadata": {},
   "outputs": [],
   "source": [
    "interval = 0.95  # 信頼区間\n",
    "x = 1\n",
    "y = numpy.mean(ar)\n",
    "pyplot.scatter(x, y)\n",
    "error = (t(len(ar) - 1).ppf(1 - (1 - interval) / 2) * numpy.std(ar, ddof=1) / len(ar) ** 0.5)  # エラーバーの範囲（信頼区間）\n",
    "pyplot.errorbar(x, y, yerr=error)"
   ]
  },
  {
   "cell_type": "markdown",
   "metadata": {},
   "source": [
    "pandas.DataFrameオブジェクトの平均にエラーバーの追加（95%信頼区間）"
   ]
  },
  {
   "cell_type": "code",
   "execution_count": null,
   "metadata": {},
   "outputs": [],
   "source": [
    "interval = 0.95  # 信頼区間\n",
    "error = (t(len(df) - 1).ppf(1 - (1 - interval) / 2) * df.std(ddof=1) / len(df) ** 0.5)  # エラーバーの範囲（信頼区間）\n",
    "df.mean().plot.bar(yerr=error)\n",
    "print(error)"
   ]
  },
  {
   "cell_type": "markdown",
   "metadata": {},
   "source": [
    "(c) Shigeaki Morita"
   ]
  }
 ],
 "metadata": {
  "kernelspec": {
   "display_name": "Python 3 (ipykernel)",
   "language": "python",
   "name": "python3"
  },
  "language_info": {
   "codemirror_mode": {
    "name": "ipython",
    "version": 3
   },
   "file_extension": ".py",
   "mimetype": "text/x-python",
   "name": "python",
   "nbconvert_exporter": "python",
   "pygments_lexer": "ipython3",
   "version": "3.9.7"
  }
 },
 "nbformat": 4,
 "nbformat_minor": 4
}
