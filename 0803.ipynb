{
 "cells": [
  {
   "cell_type": "markdown",
   "metadata": {},
   "source": [
    "## Python で始める機器分析データの解析とケモメトリックス  \n",
    "### 8.3. 単回帰"
   ]
  },
  {
   "cell_type": "code",
   "execution_count": null,
   "metadata": {},
   "outputs": [],
   "source": [
    "import numpy\n",
    "import pandas\n",
    "from matplotlib import pyplot"
   ]
  },
  {
   "cell_type": "code",
   "execution_count": null,
   "metadata": {},
   "outputs": [],
   "source": [
    "data = pandas.read_csv(\"data3.csv\", header=0, index_col=0).T\n",
    "data.index = pandas.read_csv(\"prop3.csv\", header=0, index_col=0).iloc[:, 2].values\n",
    "data = ((data.T - data.T.mean()) / data.T.std()).T\n",
    "from scipy.signal import savgol_filter\n",
    "buff = data\n",
    "buff = savgol_filter(buff, 7, 2, 0)\n",
    "buff = savgol_filter(buff, 7, 2, 1)\n",
    "buff = savgol_filter(buff, 7, 2, 0)\n",
    "buff = savgol_filter(buff, 7, 2, 1)\n",
    "data = pandas.DataFrame(buff, index=data.index, columns=data.columns)\n",
    "from sklearn.model_selection import train_test_split\n",
    "train, test = train_test_split(data, train_size=0.6, random_state=8)"
   ]
  },
  {
   "cell_type": "code",
   "execution_count": null,
   "metadata": {},
   "outputs": [],
   "source": [
    "i = 2304\n",
    "train_x = train.loc[:, i].values\n",
    "train_y = train.loc[:, i].index.values\n",
    "test_x = test.loc[:, i].values\n",
    "test_y = test.loc[:, i].index.values"
   ]
  },
  {
   "cell_type": "markdown",
   "metadata": {},
   "source": [
    "sklearn.linear_model.LinearRegression  \n",
    "https://scikit-learn.org/stable/modules/generated/sklearn.linear_model.LinearRegression.html"
   ]
  },
  {
   "cell_type": "code",
   "execution_count": null,
   "metadata": {},
   "outputs": [],
   "source": [
    "from sklearn.linear_model import LinearRegression\n",
    "x = numpy.array([train_x]).T\n",
    "y = train_y\n",
    "model = LinearRegression().fit(x, y)"
   ]
  },
  {
   "cell_type": "code",
   "execution_count": null,
   "metadata": {},
   "outputs": [],
   "source": [
    "a = model.coef_[0]\n",
    "b = model.intercept_\n",
    "print(\"a =\", a)\n",
    "print(\"b =\", b)"
   ]
  },
  {
   "cell_type": "code",
   "execution_count": null,
   "metadata": {},
   "outputs": [],
   "source": [
    "x1, x2 = train_x.min(), train_x.max()\n",
    "y1, y2 = a * x1 + b, a * x2 + b\n",
    "pyplot.plot([x1, x2], [y1, y2])\n",
    "pyplot.scatter(train_x, train_y)\n",
    "pyplot.show()"
   ]
  },
  {
   "cell_type": "code",
   "execution_count": null,
   "metadata": {},
   "outputs": [],
   "source": [
    "pyplot.figure(figsize=(6, 6))\n",
    "calibration = model.predict(x)\n",
    "pyplot.scatter(y, calibration)\n",
    "y1, y2 = y.min(), y.max()\n",
    "pyplot.plot([y1, y2], [y1, y2])\n",
    "pyplot.show()"
   ]
  },
  {
   "cell_type": "markdown",
   "metadata": {},
   "source": [
    "sklearn.metrics.mean_squared_error  \n",
    "https://scikit-learn.org/stable/modules/generated/sklearn.metrics.mean_squared_error.html"
   ]
  },
  {
   "cell_type": "code",
   "execution_count": null,
   "metadata": {},
   "outputs": [],
   "source": [
    "from sklearn.metrics import mean_squared_error\n",
    "RMSE = numpy.sqrt(mean_squared_error(y, calibration))\n",
    "print(\"RMSEC =\", RMSE)"
   ]
  },
  {
   "cell_type": "markdown",
   "metadata": {},
   "source": [
    "sklearn.metrics.r2_score  \n",
    "https://scikit-learn.org/stable/modules/generated/sklearn.metrics.r2_score.html"
   ]
  },
  {
   "cell_type": "code",
   "execution_count": null,
   "metadata": {},
   "outputs": [],
   "source": [
    "from sklearn.metrics import r2_score\n",
    "R2 = r2_score(y, calibration)\n",
    "print(\"R^2 =\", R2)"
   ]
  },
  {
   "cell_type": "code",
   "execution_count": null,
   "metadata": {},
   "outputs": [],
   "source": [
    "pyplot.figure(figsize=(6, 6))\n",
    "varidation = model.predict(test_x.reshape((len(test_x), 1)))\n",
    "pyplot.scatter(test_y, varidation)\n",
    "y1, y2 = train_y.min(), train_y.max()\n",
    "pyplot.plot([y1, y2], [y1, y2])\n",
    "pyplot.show()\n",
    "print(\"mean =\", numpy.mean(test_y))\n",
    "print(\"standard deviation =\", numpy.std(test_y, ddof=1))\n",
    "print(\"RMSEV =\", numpy.sqrt(mean_squared_error(test_y, varidation)))\n",
    "print(\"R^2 =\", r2_score(test_y, varidation))"
   ]
  },
  {
   "cell_type": "markdown",
   "metadata": {},
   "source": [
    "(c) Shigeaki Morita"
   ]
  }
 ],
 "metadata": {
  "kernelspec": {
   "display_name": "Python 3 (ipykernel)",
   "language": "python",
   "name": "python3"
  },
  "language_info": {
   "codemirror_mode": {
    "name": "ipython",
    "version": 3
   },
   "file_extension": ".py",
   "mimetype": "text/x-python",
   "name": "python",
   "nbconvert_exporter": "python",
   "pygments_lexer": "ipython3",
   "version": "3.9.7"
  }
 },
 "nbformat": 4,
 "nbformat_minor": 4
}
