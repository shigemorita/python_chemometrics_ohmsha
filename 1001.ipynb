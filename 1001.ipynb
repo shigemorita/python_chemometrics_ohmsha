{
 "cells": [
  {
   "cell_type": "markdown",
   "metadata": {},
   "source": [
    "## Python で始める機器分析データの解析とケモメトリックス  \n",
    "\n",
    "### 10.1. 線形最小二乗法"
   ]
  },
  {
   "cell_type": "code",
   "execution_count": null,
   "metadata": {},
   "outputs": [],
   "source": [
    "import numpy\n",
    "from matplotlib import pyplot"
   ]
  },
  {
   "cell_type": "code",
   "execution_count": null,
   "metadata": {},
   "outputs": [],
   "source": [
    "#p.177\n",
    "def poly(x, a, b, c):\n",
    "\ty = a * x ** 2 + b * x + c\n",
    "\treturn y"
   ]
  },
  {
   "cell_type": "code",
   "execution_count": null,
   "metadata": {},
   "outputs": [],
   "source": [
    "#p.177\n",
    "x = numpy.arange(0, 5, 0.1)\n",
    "y = poly(x, 2, -8, 10) + numpy.random.normal(loc=0, scale=1, size=len(x))\n",
    "pyplot.scatter(x, y)\n",
    "pyplot.show()"
   ]
  },
  {
   "cell_type": "markdown",
   "metadata": {},
   "source": [
    "numpy.polyfit  \n",
    "https://numpy.org/doc/stable/reference/generated/numpy.polyfit.html"
   ]
  },
  {
   "cell_type": "code",
   "execution_count": null,
   "metadata": {},
   "outputs": [],
   "source": [
    "#p.177\n",
    "p = numpy.polyfit(x, y, 2)\n",
    "fit = poly(x, p[0], p[1], p[2])\n",
    "pyplot.scatter(x, y)\n",
    "pyplot.plot(x, fit, c=\"red\")\n",
    "pyplot.show()\n",
    "print(\"a =\", p[0])\n",
    "print(\"b =\", p[1])\n",
    "print(\"c =\", p[2])"
   ]
  },
  {
   "cell_type": "code",
   "execution_count": null,
   "metadata": {},
   "outputs": [],
   "source": [
    "#p.178\n",
    "pyplot.scatter(x, y-fit)\n",
    "pyplot.plot(x, x*0, c=\"red\")\n",
    "pyplot.show()"
   ]
  },
  {
   "cell_type": "code",
   "execution_count": null,
   "metadata": {},
   "outputs": [],
   "source": [
    "#p.179\n",
    "R2 = numpy.corrcoef(y, fit)[0, 1] ** 2\n",
    "print(\"R^2 =\", R2)"
   ]
  },
  {
   "cell_type": "markdown",
   "metadata": {},
   "source": [
    "(c) Shigeaki Morita"
   ]
  }
 ],
 "metadata": {
  "kernelspec": {
   "display_name": "Python 3.9.13 ('base')",
   "language": "python",
   "name": "python3"
  },
  "language_info": {
   "codemirror_mode": {
    "name": "ipython",
    "version": 3
   },
   "file_extension": ".py",
   "mimetype": "text/x-python",
   "name": "python",
   "nbconvert_exporter": "python",
   "pygments_lexer": "ipython3",
   "version": "3.9.13"
  },
  "vscode": {
   "interpreter": {
    "hash": "aa931a12cd616f100a3dbf0df00067e1067e9b65b97740d9adc59c84adb05e7e"
   }
  }
 },
 "nbformat": 4,
 "nbformat_minor": 2
}
