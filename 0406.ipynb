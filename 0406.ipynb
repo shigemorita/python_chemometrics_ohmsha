{
 "cells": [
  {
   "cell_type": "markdown",
   "metadata": {},
   "source": [
    "## Python で始める機器分析データの解析とケモメトリックス  \n",
    "### 4.6. ベースライン補正"
   ]
  },
  {
   "cell_type": "code",
   "execution_count": null,
   "metadata": {},
   "outputs": [],
   "source": [
    "import numpy\n",
    "import pandas\n",
    "from matplotlib import pyplot\n",
    "from scipy import signal\n",
    "filename = \"data3.csv\"\n",
    "data = pandas.read_csv(filename, header=0, index_col=0).T\n",
    "data.index = pandas.read_csv(filename, header=None, index_col=0).iloc[0].values\n",
    "data.T.plot(legend=None)"
   ]
  },
  {
   "cell_type": "markdown",
   "metadata": {},
   "source": [
    "(1) 1点でのベースライン補正"
   ]
  },
  {
   "cell_type": "code",
   "execution_count": null,
   "metadata": {},
   "outputs": [],
   "source": [
    "data.iloc[0].loc[1200:1400].idxmin()  # 1200-1400 nm の範囲で最小値をとる横軸の値の検索"
   ]
  },
  {
   "cell_type": "code",
   "execution_count": null,
   "metadata": {},
   "outputs": [],
   "source": [
    "#p.076\n",
    "base = 1300  # ベースライン補正をする横軸の値\n",
    "df = (data.T - data.T.loc[base]).T\n",
    "df.T.plot(legend=None)"
   ]
  },
  {
   "cell_type": "code",
   "execution_count": null,
   "metadata": {},
   "outputs": [],
   "source": [
    "#p.077\n",
    "xmin, xmax = 1200, 1400  # 最小値を検索する範囲\n",
    "df = data.iloc[:, (xmin < data.columns) & (data.columns < xmax)]\n",
    "df = (data.T - df.T.min()).T\n",
    "df.T.plot(legend=None)"
   ]
  },
  {
   "cell_type": "markdown",
   "metadata": {},
   "source": [
    "(2) 2点（x1, y1), (x2, y2) を通る直線 y = a * x + b によるベースライン補正"
   ]
  },
  {
   "cell_type": "code",
   "execution_count": null,
   "metadata": {},
   "outputs": [],
   "source": [
    "#p.077\n",
    "xmin, xmax = 1200, 1400\n",
    "df = data.iloc[:, (xmin < data.columns) & (data.columns < xmax)]\n",
    "x1, y1 = df.idxmin(axis=1), df.min(axis=1)\n",
    "\n",
    "xmin, xmax = 1800, 2000\n",
    "df = data.iloc[:, (xmin < data.columns) & (data.columns < xmax)]\n",
    "x2, y2 = df.idxmin(axis=1), df.min(axis=1)\n",
    "\n",
    "a = (y2 - y1) / (x2 - x1)\n",
    "b = y1 - a * x1\n",
    "base = numpy.outer(a, data.columns) + numpy.array([b]).T\n",
    "\n",
    "df = pandas.DataFrame(data - base, index=data.index, columns=data.columns)\n",
    "df.T.plot(legend=None)"
   ]
  },
  {
   "cell_type": "markdown",
   "metadata": {},
   "source": [
    "(3) Mlutiplicative Scatter Correction (MSC)"
   ]
  },
  {
   "cell_type": "code",
   "execution_count": null,
   "metadata": {},
   "outputs": [],
   "source": [
    "#p.079\n",
    "x = numpy.matrix(data)  # 測定スペクトル\n",
    "xc = x - x.mean(axis=1)  # 測定スペクトルから説明変数方向の平均を引いたスペクトル\n",
    "df = pandas.DataFrame(xc, index=data.index, columns=data.columns)\n",
    "df.T.plot(legend=None)"
   ]
  },
  {
   "cell_type": "code",
   "execution_count": null,
   "metadata": {},
   "outputs": [],
   "source": [
    "#p.079\n",
    "r = x.mean(axis=0)  # 平均スペクトル\n",
    "rc = r - r.mean()  # 平均スペクトルから説明変数方向の平均を引いたスペクトル\n",
    "df = pandas.DataFrame(rc, columns=data.columns)\n",
    "df.T.plot(legend=None)"
   ]
  },
  {
   "cell_type": "code",
   "execution_count": null,
   "metadata": {},
   "outputs": [],
   "source": [
    "#p.080\n",
    "x = numpy.matrix(data)\n",
    "xc = x - x.mean(axis=1)\n",
    "r = x.mean(axis=0)\n",
    "rc = r - r.mean()\n",
    "b = xc * rc.T * (rc * rc.T).I\n",
    "msc = xc / b + r.mean()\n",
    "df = pandas.DataFrame(msc, index=data.index, columns=data.columns)\n",
    "df.T.plot(legend=None)"
   ]
  },
  {
   "cell_type": "markdown",
   "metadata": {},
   "source": [
    "(4) Standard Normal Variate (SNV)"
   ]
  },
  {
   "cell_type": "code",
   "execution_count": null,
   "metadata": {},
   "outputs": [],
   "source": [
    "#p.081\n",
    "snv = ((data.T - data.T.mean()) / data.T.std()).T\n",
    "snv.T.plot(legend=None)"
   ]
  },
  {
   "cell_type": "code",
   "execution_count": null,
   "metadata": {},
   "outputs": [],
   "source": [
    "#p.082\n",
    "from sklearn import preprocessing\n",
    "snv = preprocessing.scale(data.T).T\n",
    "pandas.DataFrame(snv, index=data.index, columns=data.columns).T.plot(legend=None)"
   ]
  },
  {
   "cell_type": "markdown",
   "metadata": {},
   "source": [
    "(5) 各サンプルで正規化"
   ]
  },
  {
   "cell_type": "code",
   "execution_count": null,
   "metadata": {},
   "outputs": [],
   "source": [
    "#p.082\n",
    "xmin, xmax = 1800, 2000\n",
    "df = data.iloc[:, (xmin < data.columns) & (data.columns < xmax)]\n",
    "df = ((data.T - df.T.min()) / (df.T.max() - df.T.min())).T \n",
    "df.T.plot(legend=None)"
   ]
  },
  {
   "cell_type": "markdown",
   "metadata": {},
   "source": [
    "(c) Shigeaki Morita"
   ]
  }
 ],
 "metadata": {
  "interpreter": {
   "hash": "398c91425ba9501ad3ceb4348a18eb4e653d71098c9fe91723be7ca895e75769"
  },
  "kernelspec": {
   "display_name": "Python 3 (ipykernel)",
   "language": "python",
   "name": "python3"
  },
  "language_info": {
   "codemirror_mode": {
    "name": "ipython",
    "version": 3
   },
   "file_extension": ".py",
   "mimetype": "text/x-python",
   "name": "python",
   "nbconvert_exporter": "python",
   "pygments_lexer": "ipython3",
   "version": "3.9.12"
  }
 },
 "nbformat": 4,
 "nbformat_minor": 4
}
