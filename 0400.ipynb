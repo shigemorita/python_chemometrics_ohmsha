{
 "cells": [
  {
   "cell_type": "markdown",
   "metadata": {},
   "source": [
    "## Python で始める機器分析データの解析とケモメトリックス  \n",
    "### 4. データの前処理と可視化  \n",
    "de la Mata-Espinosa P, Bosque-Sendra JM, Bro R, Cuadros-Rodriguez L, Discriminating olive and non-olive oils using HPLC-CAD and chemometrics, Analytical and Bioanalytical Chemistry, 2011a, 399, 2083-2092.  \n",
    "  \n",
    "http://www.models.life.ku.dk/oliveoil"
   ]
  },
  {
   "cell_type": "code",
   "execution_count": null,
   "metadata": {},
   "outputs": [],
   "source": [
    "from urllib.request import urlretrieve\n",
    "import zipfile\n",
    "urlretrieve(\"http://www.models.life.ku.dk/sites/default/files/HPLCforweb_0.zip\", \"HPLCforweb_0.zip\")\n",
    "zf = zipfile.ZipFile(\"./HPLCforweb_0.zip\", \"r\")\n",
    "zf.extractall()\n",
    "zf.close()"
   ]
  },
  {
   "cell_type": "code",
   "execution_count": null,
   "metadata": {},
   "outputs": [],
   "source": [
    "import pandas\n",
    "from scipy.io import loadmat\n",
    "olive = loadmat(\"HPLCforweb.mat\")\n",
    "data = pandas.DataFrame(olive[\"HPLCforweb\"][0][0][7])\n",
    "data.T.plot(legend=None)\n",
    "data.T.to_csv(\"data4.csv\")"
   ]
  },
  {
   "cell_type": "code",
   "execution_count": null,
   "metadata": {},
   "outputs": [],
   "source": [
    "prop=pandas.Series(olive[\"HPLCforweb\"][0][0][12][0][0][0],index=data.index)\n",
    "prop.to_csv(\"prop4.csv\", header=False)"
   ]
  },
  {
   "cell_type": "markdown",
   "metadata": {},
   "source": [
    "scipy.signal  \n",
    "https://docs.scipy.org/doc/scipy/reference/signal.html"
   ]
  },
  {
   "cell_type": "code",
   "execution_count": null,
   "metadata": {},
   "outputs": [],
   "source": [
    "from scipy import signal"
   ]
  },
  {
   "cell_type": "markdown",
   "metadata": {},
   "source": [
    "(c) Shigeaki Morita"
   ]
  }
 ],
 "metadata": {
  "interpreter": {
   "hash": "398c91425ba9501ad3ceb4348a18eb4e653d71098c9fe91723be7ca895e75769"
  },
  "kernelspec": {
   "display_name": "Python 3.8.12 64-bit ('base': conda)",
   "name": "python3"
  },
  "language_info": {
   "codemirror_mode": {
    "name": "ipython",
    "version": 3
   },
   "file_extension": ".py",
   "mimetype": "text/x-python",
   "name": "python",
   "nbconvert_exporter": "python",
   "pygments_lexer": "ipython3",
   "version": "3.8.13"
  }
 },
 "nbformat": 4,
 "nbformat_minor": 4
}
