{
 "cells": [
  {
   "cell_type": "markdown",
   "metadata": {},
   "source": [
    "## Python で始める機器分析データの解析とケモメトリックス  \n",
    "### 8.9.\tサポートベクターマシン（SVM）回帰"
   ]
  },
  {
   "cell_type": "code",
   "execution_count": null,
   "metadata": {},
   "outputs": [],
   "source": [
    "import numpy\n",
    "import pandas\n",
    "from matplotlib import pyplot"
   ]
  },
  {
   "cell_type": "code",
   "execution_count": null,
   "metadata": {},
   "outputs": [],
   "source": [
    "c = numpy.arange(0, 1.01, 0.01)\n",
    "yint = 1 - 1 * numpy.exp(-2 * c)\n",
    "pyplot.scatter(c, yint)"
   ]
  },
  {
   "cell_type": "code",
   "execution_count": null,
   "metadata": {},
   "outputs": [],
   "source": [
    "x = numpy.arange(300, 705, 5)\n",
    "y = numpy.exp(-4 * numpy.log(2) * (x - 500) ** 2 / 100 ** 2)\n",
    "a = numpy.array([yint]).T * y\n",
    "a += numpy.random.rand(*numpy.shape(a)) * 0.01\n",
    "data = pandas.DataFrame(a, index=c, columns=x)\n",
    "data.T.plot(legend=None)"
   ]
  },
  {
   "cell_type": "code",
   "execution_count": null,
   "metadata": {},
   "outputs": [],
   "source": [
    "from sklearn.decomposition import PCA\n",
    "pca = PCA(n_components=2).fit(data.values)\n",
    "score = pca.transform(data.values)"
   ]
  },
  {
   "cell_type": "markdown",
   "metadata": {},
   "source": [
    "sklearn.svm.SVR  \n",
    "https://scikit-learn.org/stable/modules/generated/sklearn.svm.SVR.html"
   ]
  },
  {
   "cell_type": "code",
   "execution_count": null,
   "metadata": {},
   "outputs": [],
   "source": [
    "from sklearn.svm import SVR\n",
    "grid = 10\n",
    "p1 = numpy.logspace(1, 3, num=grid)\n",
    "p2 = numpy.logspace(-4, -2, num=grid)\n",
    "p3 = numpy.logspace(-2, 0, num=grid)\n",
    "parm = {\"C\": p1, \"epsilon\": p2, \"gamma\": p3}\n",
    "from sklearn.model_selection import GridSearchCV\n",
    "search = GridSearchCV(SVR(kernel=\"rbf\"), parm, cv=3).fit(score, c)\n",
    "print(search.best_estimator_, search.best_score_)\n",
    "svr = search.best_estimator_.fit(score, c)"
   ]
  },
  {
   "cell_type": "code",
   "execution_count": null,
   "metadata": {},
   "outputs": [],
   "source": [
    "pyplot.figure(figsize=(4, 4))\n",
    "pyplot.scatter(c, svr.predict(pca.transform(data.values)))\n",
    "pyplot.plot(c, c, c=\"black\")"
   ]
  },
  {
   "cell_type": "code",
   "execution_count": null,
   "metadata": {},
   "outputs": [],
   "source": [
    "pyplot.scatter(svr.predict(pca.transform(data.values)), yint)\n",
    "pyplot.plot(c, yint, c=\"black\")"
   ]
  },
  {
   "cell_type": "markdown",
   "metadata": {},
   "source": [
    "(c) Shigeaki Morita"
   ]
  }
 ],
 "metadata": {
  "kernelspec": {
   "display_name": "Python 3 (ipykernel)",
   "language": "python",
   "name": "python3"
  },
  "language_info": {
   "codemirror_mode": {
    "name": "ipython",
    "version": 3
   },
   "file_extension": ".py",
   "mimetype": "text/x-python",
   "name": "python",
   "nbconvert_exporter": "python",
   "pygments_lexer": "ipython3",
   "version": "3.9.7"
  }
 },
 "nbformat": 4,
 "nbformat_minor": 4
}
