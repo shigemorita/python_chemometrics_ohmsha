{
 "cells": [
  {
   "cell_type": "markdown",
   "metadata": {},
   "source": [
    "## Python で始める機器分析データの解析とケモメトリックス  \n",
    "### 2.6. グラフ作成"
   ]
  },
  {
   "cell_type": "code",
   "execution_count": null,
   "metadata": {},
   "outputs": [],
   "source": [
    "import numpy\n",
    "import pandas\n",
    "from matplotlib import pyplot, ticker"
   ]
  },
  {
   "cell_type": "code",
   "execution_count": null,
   "metadata": {},
   "outputs": [],
   "source": [
    "filename = \"data2.csv\"\n",
    "data = pandas.read_csv(filename, header=0, index_col=0).T\n",
    "data.index = pandas.read_csv(filename, header=None, index_col=0).iloc[0].values"
   ]
  },
  {
   "cell_type": "code",
   "execution_count": null,
   "metadata": {},
   "outputs": [],
   "source": [
    "pyplot.rcParams.update(pyplot.rcParamsDefault)\n",
    "print(pyplot.rcParams)"
   ]
  },
  {
   "cell_type": "code",
   "execution_count": null,
   "metadata": {},
   "outputs": [],
   "source": [
    "# フォント\n",
    "pyplot.rcParams[\"font.size\"] = 24\n",
    "pyplot.rcParams[\"font.family\"] = \"serif\"\n",
    "pyplot.rcParams[\"font.serif\"] = \"Times New Roman\"\n",
    "\n",
    "# 目盛りの表示\n",
    "pyplot.rcParams[\"xtick.bottom\"] = True\n",
    "pyplot.rcParams[\"xtick.top\"] = True\n",
    "pyplot.rcParams[\"ytick.left\"] = True\n",
    "pyplot.rcParams[\"ytick.right\"] = True\n",
    "\n",
    "# 目盛りの向き\n",
    "pyplot.rcParams[\"xtick.direction\"] = \"in\"\n",
    "pyplot.rcParams[\"ytick.direction\"] = \"in\"\n",
    "\n",
    "# 目盛りの長さ\n",
    "pyplot.rcParams[\"xtick.major.size\"] = 10\n",
    "pyplot.rcParams[\"ytick.major.size\"] = 10\n",
    "pyplot.rcParams[\"xtick.minor.size\"] = 5\n",
    "pyplot.rcParams[\"ytick.minor.size\"] = 5\n",
    "\n",
    "# 線の太さ\n",
    "pyplot.rcParams[\"lines.linewidth\"] = 1.5\n",
    "pyplot.rcParams[\"axes.linewidth\"] = 1.5\n",
    "pyplot.rcParams[\"xtick.major.width\"] = 1.5\n",
    "pyplot.rcParams[\"ytick.major.width\"] = 1.5\n",
    "pyplot.rcParams[\"xtick.minor.width\"] = 1.5\n",
    "pyplot.rcParams[\"ytick.minor.width\"] = 1.5\n",
    "\n",
    "# 余白\n",
    "pyplot.rcParams[\"axes.labelpad\"] = 15\n",
    "pyplot.rcParams[\"xtick.major.pad\"] = 15\n",
    "pyplot.rcParams[\"ytick.major.pad\"] = 15\n",
    "\n",
    "# 画像保存\n",
    "pyplot.rcParams[\"savefig.format\"] = \"png\"\n",
    "pyplot.rcParams[\"savefig.dpi\"] = 150\n",
    "pyplot.rcParams[\"savefig.transparent\"] = False\n",
    "pyplot.rcParams[\"savefig.bbox\"] = \"tight\""
   ]
  },
  {
   "cell_type": "code",
   "execution_count": null,
   "metadata": {},
   "outputs": [],
   "source": [
    "fig = pyplot.figure(figsize=(8, 5))\n",
    "ax1 = fig.add_axes((0, 0, 1, 1))\n",
    "ax1.set_xlim(300, 700)\n",
    "ax1.set_xticks(numpy.arange(300, 750, 50))\n",
    "ax1.xaxis.set_minor_locator(ticker.MultipleLocator(10))\n",
    "ax1.set_xlabel(\"Wavelength / nm\")\n",
    "ax1.set_ylim(-0.1, 1.1)\n",
    "ax1.set_yticks(numpy.arange(0, 1.2, 0.2))\n",
    "ax1.yaxis.set_minor_locator(ticker.MultipleLocator(0.05))\n",
    "ax1.set_ylabel(\"Absorbance\")\n",
    "for i in range(len(data)): ax1.plot(data.columns, data.iloc[i], color=\"black\")\n",
    "\n",
    "pyplot.rcParams[\"axes.labelpad\"] = 5\n",
    "pyplot.rcParams[\"xtick.major.pad\"] = 5\n",
    "pyplot.rcParams[\"ytick.major.pad\"] = 5\n",
    "ax2 = fig.add_axes((0.7, 0.62, 0.25, 0.3))\n",
    "ax2.tick_params(labelsize=16)\n",
    "ax2.set_xlim(-0.1, 1.1)\n",
    "ax2.set_xticks(numpy.arange(0, 1.5, 0.5))\n",
    "ax2.xaxis.set_minor_locator(ticker.MultipleLocator(0.1))\n",
    "ax2.set_xlabel(\"Conc. / $\\mu$M\", size=14)\n",
    "ax2.set_ylim(-0.1, 1.1)\n",
    "ax2.set_yticks(numpy.arange(0, 1.5, 0.5))\n",
    "ax2.yaxis.set_minor_locator(ticker.MultipleLocator(0.1))\n",
    "ax2.set_ylabel(\"Abs. @ 500 nm\", size=14)\n",
    "ax2.scatter(data.index, data.loc[:, 500], color=\"black\")\n",
    "pyplot.show()"
   ]
  },
  {
   "cell_type": "code",
   "execution_count": null,
   "metadata": {},
   "outputs": [],
   "source": [
    "filename = \"fig.png\"\n",
    "pyplot.savefig(filename)"
   ]
  },
  {
   "cell_type": "markdown",
   "metadata": {},
   "source": [
    "(c) Shigeaki Morita"
   ]
  }
 ],
 "metadata": {
  "kernelspec": {
   "display_name": "Python 3 (ipykernel)",
   "language": "python",
   "name": "python3"
  },
  "language_info": {
   "codemirror_mode": {
    "name": "ipython",
    "version": 3
   },
   "file_extension": ".py",
   "mimetype": "text/x-python",
   "name": "python",
   "nbconvert_exporter": "python",
   "pygments_lexer": "ipython3",
   "version": "3.8.13"
  }
 },
 "nbformat": 4,
 "nbformat_minor": 4
}
