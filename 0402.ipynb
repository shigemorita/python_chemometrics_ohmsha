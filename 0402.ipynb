{
 "cells": [
  {
   "cell_type": "markdown",
   "metadata": {},
   "source": [
    "## Python で始める機器分析データの解析とケモメトリックス  \n",
    "### 4.2. 補完"
   ]
  },
  {
   "cell_type": "markdown",
   "metadata": {},
   "source": [
    "scipy.interpolate  \n",
    "https://docs.scipy.org/doc/scipy/reference/interpolate.html  \n",
    "scipy.interpolate.interp1d  \n",
    "https://docs.scipy.org/doc/scipy/reference/generated/scipy.interpolate.interp1d.html"
   ]
  },
  {
   "cell_type": "code",
   "execution_count": null,
   "metadata": {},
   "outputs": [],
   "source": [
    "import numpy\n",
    "import pandas\n",
    "from matplotlib import pyplot\n",
    "from scipy import signal\n",
    "filename = \"data4.csv\"\n",
    "data = pandas.read_csv(filename, header=0, index_col=0).T\n",
    "data.index = pandas.read_csv(filename, header=None, index_col=0).iloc[0].values"
   ]
  },
  {
   "cell_type": "code",
   "execution_count": null,
   "metadata": {},
   "outputs": [],
   "source": [
    "xmin, xmax = 700, 840\n",
    "df = data.iloc[:, (xmin <= data.columns) & (data.columns <= xmax)]"
   ]
  },
  {
   "cell_type": "markdown",
   "metadata": {},
   "source": [
    "一次元配列 y の補完"
   ]
  },
  {
   "cell_type": "code",
   "execution_count": null,
   "metadata": {},
   "outputs": [],
   "source": [
    "from scipy import interpolate\n",
    "x, y = df.columns, df.iloc[0]\n",
    "xdiv = 0.5\n",
    "ix = numpy.arange(xmin, xmax + xdiv, xdiv)\n",
    "iy = interpolate.interp1d(x, y, kind=\"linear\")(ix)  # 線形補間\n",
    "# iy = interpolate.interp1d(x, y, kind=\"quadratic\")(ix)  # 2次スプライン補完\n",
    "# iy = interpolate.interp1d(x, y, kind=\"cubic\")(ix)  # 3次スプライン補完\n",
    "print(pandas.Series(y, index=x))  # 補完前のデータ\n",
    "print(pandas.Series(iy, index=ix))  # 補完後のデータ"
   ]
  },
  {
   "cell_type": "markdown",
   "metadata": {},
   "source": [
    "pandas.DataFrame オブジェクト df の補完"
   ]
  },
  {
   "cell_type": "code",
   "execution_count": null,
   "metadata": {},
   "outputs": [],
   "source": [
    "from scipy import interpolate\n",
    "xdiv = 0.5\n",
    "ix = numpy.arange(xmin, xmax + xdiv, xdiv)\n",
    "ip = pandas.DataFrame(index=df.index, columns=ix)\n",
    "for i in range(len(df)):\n",
    "    iy = interpolate.interp1d(df.columns, df.iloc[i], kind=\"linear\")(ix)  # 線形補間\n",
    "    # iy = interpolate.interp1d(df.columns, df.iloc[i], kind=\"quadratic\")(ix)  # 2次スプライン補間\n",
    "    # iy = interpolate.interp1d(df.columns, df.iloc[i], kind=\"cubic\")(ix)  # 3次スプライン補間\n",
    "    ip.iloc[i]=iy\n",
    "display(df)  # 補完前のデータ\n",
    "display(ip)  # 補完後のデータ"
   ]
  },
  {
   "cell_type": "markdown",
   "metadata": {},
   "source": [
    "(c) Shigeaki Morita"
   ]
  }
 ],
 "metadata": {
  "kernelspec": {
   "display_name": "Python 3 (ipykernel)",
   "language": "python",
   "name": "python3"
  },
  "language_info": {
   "codemirror_mode": {
    "name": "ipython",
    "version": 3
   },
   "file_extension": ".py",
   "mimetype": "text/x-python",
   "name": "python",
   "nbconvert_exporter": "python",
   "pygments_lexer": "ipython3",
   "version": "3.9.7"
  }
 },
 "nbformat": 4,
 "nbformat_minor": 4
}
