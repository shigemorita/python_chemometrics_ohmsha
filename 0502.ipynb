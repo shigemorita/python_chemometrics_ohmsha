{
 "cells": [
  {
   "cell_type": "markdown",
   "metadata": {},
   "source": [
    "## Python で始める機器分析データの解析とケモメトリックス  \n",
    "### 5.2. ランベルト・ベールの法則の拡張"
   ]
  },
  {
   "cell_type": "code",
   "execution_count": null,
   "metadata": {},
   "outputs": [],
   "source": [
    "import numpy\n",
    "import pandas"
   ]
  },
  {
   "cell_type": "code",
   "execution_count": null,
   "metadata": {},
   "outputs": [],
   "source": [
    "filename = \"data2.csv\"\n",
    "data = pandas.read_csv(filename, header=0, index_col=0).T\n",
    "data.index = pandas.read_csv(filename, header=None, index_col=0).iloc[0].values"
   ]
  },
  {
   "cell_type": "code",
   "execution_count": null,
   "metadata": {},
   "outputs": [],
   "source": [
    "df = data.loc[:, [450, 500, 550]]\n",
    "print(df)"
   ]
  },
  {
   "cell_type": "code",
   "execution_count": null,
   "metadata": {},
   "outputs": [],
   "source": [
    "df.loc[1.0].plot.bar()"
   ]
  },
  {
   "cell_type": "code",
   "execution_count": null,
   "metadata": {},
   "outputs": [],
   "source": [
    "from matplotlib import pyplot\n",
    "from mpl_toolkits.mplot3d import Axes3D"
   ]
  },
  {
   "cell_type": "code",
   "execution_count": null,
   "metadata": {},
   "outputs": [],
   "source": [
    "fig = pyplot.figure()\n",
    "ax = fig.add_axes((0, 0, 1, 1), projection=\"3d\")\n",
    "ax.set_xlabel(\"x\")\n",
    "ax.set_ylabel(\"y\")\n",
    "ax.set_zlabel(\"z\")\n",
    "lim = 1.25\n",
    "ax.set_xlim(-lim, lim)\n",
    "ax.set_ylim(-lim, lim)\n",
    "ax.set_zlim(-lim, lim)\n",
    "x = df.iloc[:, 0]\n",
    "y = df.iloc[:, 1]\n",
    "z = df.iloc[:, 2]\n",
    "ax.scatter(x, y, z, c=\"blue\")  # データ点を青とする\n",
    "ax.scatter(0, 0, 0, c=\"red\")  # 原点を赤とする"
   ]
  },
  {
   "cell_type": "code",
   "execution_count": null,
   "metadata": {},
   "outputs": [],
   "source": [
    "C = numpy.matrix(df.index).T\n",
    "K = numpy.matrix([0.5, 1.0, 0.5])\n",
    "print(\"C =\\n\", C, \"\\n\")\n",
    "print(\"K =\\n\", K, \"\\n\")\n",
    "print(\"C * K =\\n\", C * K)"
   ]
  },
  {
   "cell_type": "code",
   "execution_count": null,
   "metadata": {},
   "outputs": [],
   "source": [
    "A = numpy.matrix(df)\n",
    "C = numpy.matrix(df.index).T\n",
    "K = (C.T * C).I * C.T * A\n",
    "print(K)"
   ]
  },
  {
   "cell_type": "code",
   "execution_count": null,
   "metadata": {},
   "outputs": [],
   "source": [
    "A = numpy.matrix(data)\n",
    "C = numpy.matrix(data.index).T\n",
    "K = (C.T * C).I * C.T * A\n",
    "pyplot.plot(data.columns, numpy.array(K)[0])"
   ]
  }
 ],
 "metadata": {
  "interpreter": {
   "hash": "398c91425ba9501ad3ceb4348a18eb4e653d71098c9fe91723be7ca895e75769"
  },
  "kernelspec": {
   "display_name": "Python 3.8.11 64-bit ('base': conda)",
   "name": "python3"
  },
  "language_info": {
   "codemirror_mode": {
    "name": "ipython",
    "version": 3
   },
   "file_extension": ".py",
   "mimetype": "text/x-python",
   "name": "python",
   "nbconvert_exporter": "python",
   "pygments_lexer": "ipython3",
   "version": "3.9.7"
  },
  "orig_nbformat": 4
 },
 "nbformat": 4,
 "nbformat_minor": 2
}
