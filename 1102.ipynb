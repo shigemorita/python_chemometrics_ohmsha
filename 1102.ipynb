{
 "cells": [
  {
   "cell_type": "markdown",
   "metadata": {},
   "source": [
    "## Python で始める機器分析データの解析とケモメトリックス  \n",
    "\n",
    "### 11.2. 摂動相関法"
   ]
  },
  {
   "cell_type": "code",
   "execution_count": null,
   "metadata": {},
   "outputs": [],
   "source": [
    "import numpy\n",
    "import pandas\n",
    "from matplotlib import pyplot"
   ]
  },
  {
   "cell_type": "code",
   "execution_count": null,
   "metadata": {},
   "outputs": [],
   "source": [
    "filename = \"data7.csv\"\n",
    "data = pandas.read_csv(filename, header=0, index_col=0).T\n",
    "data.index = pandas.read_csv(filename, header=None, index_col=0).iloc[0].values\n",
    "data.T.plot()"
   ]
  },
  {
   "cell_type": "code",
   "execution_count": null,
   "metadata": {},
   "outputs": [],
   "source": [
    "def contour(data):\n",
    "    x = data.columns[0:].astype(float)\n",
    "    y = data.index[0:].astype(float)\n",
    "    z = data.values\n",
    "    zmax = numpy.absolute(z).max()\n",
    "    pyplot.figure(figsize=(6, 6))\n",
    "    num_contour = 16\n",
    "    pyplot.contour(x, y, z, num_contour, cmap=\"bwr\", vmin=-1 * zmax, vmax=zmax)"
   ]
  },
  {
   "cell_type": "markdown",
   "metadata": {},
   "source": [
    "PCMW2D 相関スペクトル  \n",
    "$$\\Pi_{\\Phi,j } (\\nu, t_j)=\\frac{1}{2m} \\sum_{J=j-m}^{j+m} \\tilde{y}(\\nu, t_J) \\cdot \\tilde{t}_J $$"
   ]
  },
  {
   "cell_type": "code",
   "execution_count": null,
   "metadata": {},
   "outputs": [],
   "source": [
    "window = 3\n",
    "sync = numpy.zeros(data.shape)\n",
    "for i in range(window // 2, len(data) - window // 2):\n",
    "    y = data.iloc[i - window // 2 : i + window // 2 + 1]\n",
    "    y -= y.mean()\n",
    "    t = y.index - numpy.mean(y.index)\n",
    "    sync[i] = t @ y / (window - 1)\n",
    "sync = pandas.DataFrame(sync, index=data.index, columns=data.columns)\n",
    "contour(sync)"
   ]
  },
  {
   "cell_type": "markdown",
   "metadata": {},
   "source": [
    "(c) Shigeaki Morita"
   ]
  }
 ],
 "metadata": {
  "kernelspec": {
   "display_name": "Python 3",
   "language": "python",
   "name": "python3"
  },
  "language_info": {
   "codemirror_mode": {
    "name": "ipython",
    "version": 3
   },
   "file_extension": ".py",
   "mimetype": "text/x-python",
   "name": "python",
   "nbconvert_exporter": "python",
   "pygments_lexer": "ipython3",
   "version": "3.9.7"
  }
 },
 "nbformat": 4,
 "nbformat_minor": 2
}
