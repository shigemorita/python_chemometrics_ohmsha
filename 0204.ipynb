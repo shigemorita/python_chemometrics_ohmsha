{
 "cells": [
  {
   "cell_type": "markdown",
   "metadata": {},
   "source": [
    "## Python で始める機器分析データの解析とケモメトリックス  \n",
    "### 2.4. pandas.DataFrame オブジェクト"
   ]
  },
  {
   "cell_type": "markdown",
   "metadata": {},
   "source": [
    "データファイルの読み込み  \n",
    "2.3 節で準備した data2.csv が同じフォルダにあることを確認して下さい"
   ]
  },
  {
   "cell_type": "code",
   "execution_count": null,
   "metadata": {},
   "outputs": [],
   "source": [
    "#p.022\n",
    "import numpy\n",
    "import pandas\n",
    "filename = \"data2.csv\"\n",
    "data = pandas.read_csv(filename, header=0, index_col=0).T\n",
    "data.index = pandas.read_csv(filename, header=None, index_col=0).iloc[0].values\n",
    "data"
   ]
  },
  {
   "cell_type": "markdown",
   "metadata": {},
   "source": [
    "data.columns の最初の要素"
   ]
  },
  {
   "cell_type": "code",
   "execution_count": null,
   "metadata": {},
   "outputs": [],
   "source": [
    "data.columns[0]"
   ]
  },
  {
   "cell_type": "markdown",
   "metadata": {},
   "source": [
    "data.columns の要素の数  \n",
    "len  \n",
    "https://docs.python.org/ja/3/library/functions.html#len"
   ]
  },
  {
   "cell_type": "code",
   "execution_count": null,
   "metadata": {},
   "outputs": [],
   "source": [
    "len(data.columns)"
   ]
  },
  {
   "cell_type": "markdown",
   "metadata": {},
   "source": [
    "data.columns の最後の要素"
   ]
  },
  {
   "cell_type": "code",
   "execution_count": null,
   "metadata": {},
   "outputs": [],
   "source": [
    "data.columns[-1]"
   ]
  },
  {
   "cell_type": "markdown",
   "metadata": {},
   "source": [
    "data.columns のインデックスが p 以上 q 未満である範囲の抽出"
   ]
  },
  {
   "cell_type": "code",
   "execution_count": null,
   "metadata": {},
   "outputs": [],
   "source": [
    "p, q = 30, 51\n",
    "data.columns[p:q]"
   ]
  },
  {
   "cell_type": "markdown",
   "metadata": {},
   "source": [
    "data.columns のインデックスが p 以上である範囲の抽出"
   ]
  },
  {
   "cell_type": "code",
   "execution_count": null,
   "metadata": {},
   "outputs": [],
   "source": [
    "data.columns[p:]"
   ]
  },
  {
   "cell_type": "markdown",
   "metadata": {},
   "source": [
    "data.columns のインデックスが q 未満である範囲の抽出"
   ]
  },
  {
   "cell_type": "code",
   "execution_count": null,
   "metadata": {},
   "outputs": [],
   "source": [
    "data.columns[:q]"
   ]
  },
  {
   "cell_type": "markdown",
   "metadata": {},
   "source": [
    "data.columns の要素が 500 であるインデックスの検索  \n",
    "numpy.where  \n",
    "https://numpy.org/doc/stable/reference/generated/numpy.where.html"
   ]
  },
  {
   "cell_type": "code",
   "execution_count": null,
   "metadata": {},
   "outputs": [],
   "source": [
    "x = 500\n",
    "numpy.where(data.columns == x)[0][0]"
   ]
  },
  {
   "cell_type": "markdown",
   "metadata": {},
   "source": [
    "data.columns の要素が 499よりも大きい最小の要素のインデックスの検索  \n",
    "numpy.min  \n",
    "https://numpy.org/doc/stable/reference/generated/numpy.ndarray.min.html"
   ]
  },
  {
   "cell_type": "code",
   "execution_count": null,
   "metadata": {},
   "outputs": [],
   "source": [
    "x = 499\n",
    "numpy.min(numpy.where(x <= data.columns))"
   ]
  },
  {
   "cell_type": "markdown",
   "metadata": {},
   "source": [
    "data.columns の要素が501よりも小さい最大の要素のインデックスの検索  \n",
    "numpy.max  \n",
    "https://numpy.org/doc/stable/reference/generated/numpy.ndarray.max.html"
   ]
  },
  {
   "cell_type": "code",
   "execution_count": null,
   "metadata": {},
   "outputs": [],
   "source": [
    "x = 501\n",
    "numpy.max(numpy.where(data.columns <= x))"
   ]
  },
  {
   "cell_type": "markdown",
   "metadata": {},
   "source": [
    "pandas.DataFrame の行番号と列番号を指定して値の読み取り  \n",
    "pandas.DataFrame.iloc  \n",
    "https://pandas.pydata.org/pandas-docs/stable/reference/api/pandas.DataFrame.iloc.html"
   ]
  },
  {
   "cell_type": "code",
   "execution_count": null,
   "metadata": {},
   "outputs": [],
   "source": [
    "r, c = 0.5, 500\n",
    "data.loc[r, c]"
   ]
  },
  {
   "cell_type": "markdown",
   "metadata": {},
   "source": [
    "濃度が 0.5 のときのスペクトルのプロット"
   ]
  },
  {
   "cell_type": "code",
   "execution_count": null,
   "metadata": {},
   "outputs": [],
   "source": [
    "data.loc[0.5, :].T.plot()"
   ]
  },
  {
   "cell_type": "markdown",
   "metadata": {},
   "source": [
    "最大吸収波長 500 における吸光度の濃度依存"
   ]
  },
  {
   "cell_type": "code",
   "execution_count": null,
   "metadata": {},
   "outputs": [],
   "source": [
    "data.loc[:, 500].plot()"
   ]
  },
  {
   "cell_type": "markdown",
   "metadata": {},
   "source": [
    "演習(1)\t濃度範囲が 0.4 から 0.6 のスペクトル"
   ]
  },
  {
   "cell_type": "code",
   "execution_count": null,
   "metadata": {},
   "outputs": [],
   "source": [
    "data.loc[0.4:0.6, :].T.plot()"
   ]
  },
  {
   "cell_type": "markdown",
   "metadata": {},
   "source": [
    "演習(2)\t波長が 400，450，500 のときの吸光度の濃度依存"
   ]
  },
  {
   "cell_type": "code",
   "execution_count": null,
   "metadata": {},
   "outputs": [],
   "source": [
    "data.loc[:,numpy.arange(400, 550, 50)].plot()"
   ]
  },
  {
   "cell_type": "markdown",
   "metadata": {},
   "source": [
    "演習(3)\t濃度範囲が 0.4 から 0.6，波長範囲が 400 から 600 のスペクトル"
   ]
  },
  {
   "cell_type": "code",
   "execution_count": null,
   "metadata": {},
   "outputs": [],
   "source": [
    "data.loc[0.4:0.6, 400:600].T.plot()"
   ]
  },
  {
   "cell_type": "markdown",
   "metadata": {},
   "source": [
    "(c) Shigeaki Morita"
   ]
  }
 ],
 "metadata": {
  "kernelspec": {
   "display_name": "Python 3.9.13 ('base')",
   "language": "python",
   "name": "python3"
  },
  "language_info": {
   "codemirror_mode": {
    "name": "ipython",
    "version": 3
   },
   "file_extension": ".py",
   "mimetype": "text/x-python",
   "name": "python",
   "nbconvert_exporter": "python",
   "pygments_lexer": "ipython3",
   "version": "3.9.13"
  },
  "vscode": {
   "interpreter": {
    "hash": "aa931a12cd616f100a3dbf0df00067e1067e9b65b97740d9adc59c84adb05e7e"
   }
  }
 },
 "nbformat": 4,
 "nbformat_minor": 4
}
