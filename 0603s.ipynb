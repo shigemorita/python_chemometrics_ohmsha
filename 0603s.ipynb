{
 "cells": [
  {
   "cell_type": "markdown",
   "metadata": {},
   "source": [
    "## Python で始める機器分析データの解析とケモメトリックス  \n",
    "\n",
    "### 6.3.s スコア-スコアプロット"
   ]
  },
  {
   "cell_type": "code",
   "execution_count": null,
   "metadata": {},
   "outputs": [],
   "source": [
    "import pandas\n",
    "from matplotlib import pyplot"
   ]
  },
  {
   "cell_type": "code",
   "execution_count": null,
   "metadata": {},
   "outputs": [],
   "source": [
    "filename = \"data4.csv\"\n",
    "data = pandas.read_csv(filename, header=0, index_col=0).T\n",
    "filename = \"prop4.csv\"\n",
    "prop = pandas.read_csv(filename, header=None, index_col=0).squeeze()\n",
    "data.index = prop.values"
   ]
  },
  {
   "cell_type": "code",
   "execution_count": null,
   "metadata": {},
   "outputs": [],
   "source": [
    "from sklearn.decomposition import PCA\n",
    "model = PCA().fit(data.values)\n",
    "score = pandas.DataFrame(model.transform(data.values), index=data.index)\n",
    "i, j = 0, 1\n",
    "pyplot.scatter(score.iloc[:,i],score.iloc[:,j], c=data.index)\n",
    "pyplot.show()"
   ]
  },
  {
   "cell_type": "markdown",
   "metadata": {},
   "source": [
    "(c) Shigeaki Morita"
   ]
  }
 ],
 "metadata": {
  "kernelspec": {
   "display_name": "Python 3.9.13 ('base')",
   "language": "python",
   "name": "python3"
  },
  "language_info": {
   "codemirror_mode": {
    "name": "ipython",
    "version": 3
   },
   "file_extension": ".py",
   "mimetype": "text/x-python",
   "name": "python",
   "nbconvert_exporter": "python",
   "pygments_lexer": "ipython3",
   "version": "3.9.13"
  },
  "orig_nbformat": 4,
  "vscode": {
   "interpreter": {
    "hash": "aa931a12cd616f100a3dbf0df00067e1067e9b65b97740d9adc59c84adb05e7e"
   }
  }
 },
 "nbformat": 4,
 "nbformat_minor": 2
}
