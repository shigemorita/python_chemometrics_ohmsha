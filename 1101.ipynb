{
 "cells": [
  {
   "cell_type": "markdown",
   "metadata": {},
   "source": [
    "## Python で始める機器分析データの解析とケモメトリックス  \n",
    "\n",
    "### 11.1. 一般化二次元相関分光法"
   ]
  },
  {
   "cell_type": "code",
   "execution_count": null,
   "metadata": {},
   "outputs": [],
   "source": [
    "import numpy\n",
    "import pandas\n",
    "from matplotlib import pyplot"
   ]
  },
  {
   "cell_type": "code",
   "execution_count": null,
   "metadata": {},
   "outputs": [],
   "source": [
    "filename = \"data7.csv\"\n",
    "data = pandas.read_csv(filename, header=0, index_col=0).T\n",
    "data.index = pandas.read_csv(filename, header=None, index_col=0).iloc[0].values\n",
    "data.T.plot()"
   ]
  },
  {
   "cell_type": "markdown",
   "metadata": {},
   "source": [
    "ダイナミックスペクトル  \n",
    "$$ \\tilde{y}(\\nu, t)=y(\\nu, t)-\\bar{y}(\\nu) $$\n",
    "\n",
    "$$ \\tilde{y}(\\nu, t) = \\left\\{ \\begin{array}{c} y(\\nu, t)-\\bar{y}(\\nu) & \\textrm{for   } T_{\\textrm{min}} \\le t \\le T_{\\textrm{max}} \\\\ 0 & \\textrm{otherwise}\n",
    "\\end{array}\n",
    "\\right. $$"
   ]
  },
  {
   "cell_type": "code",
   "execution_count": null,
   "metadata": {},
   "outputs": [],
   "source": [
    "data -= data.mean()\n",
    "data.T.plot(legend = None)"
   ]
  },
  {
   "cell_type": "code",
   "execution_count": null,
   "metadata": {},
   "outputs": [],
   "source": [
    "def contour(data):\n",
    "    x = data.columns[0:].astype(float)\n",
    "    y = data.index[0:].astype(float)\n",
    "    z = data.values\n",
    "    zmax = numpy.absolute(z).max()\n",
    "    pyplot.figure(figsize=(6, 6))\n",
    "    num_contour = 16\n",
    "    pyplot.contour(x, y, z, num_contour, cmap=\"bwr\", vmin=-1 * zmax, vmax=zmax)"
   ]
  },
  {
   "cell_type": "markdown",
   "metadata": {},
   "source": [
    "同時相関スペクトル  \n",
    "$$\\Phi (\\nu_1, \\nu_2)=\\frac{1}{n-1} \\sum_{j=1}^{n} \\tilde{y}(\\nu_1, t_j) \\cdot \\tilde{y}(\\nu_2, t_j) $$"
   ]
  },
  {
   "cell_type": "code",
   "execution_count": null,
   "metadata": {},
   "outputs": [],
   "source": [
    "sync = pandas.DataFrame(data.T.values @ data.values / (len(data) - 1), index=data.columns, columns=data.columns).T\n",
    "contour(sync)"
   ]
  },
  {
   "cell_type": "code",
   "execution_count": null,
   "metadata": {},
   "outputs": [],
   "source": [
    "contour(data.cov(ddof=1))"
   ]
  },
  {
   "cell_type": "markdown",
   "metadata": {},
   "source": [
    "ヒルベルト-野田変換行列  \n",
    "$$ M_{jk} = \\left\\{ \\begin{array}{c} 0 & \\textrm{if   } j=k \\\\ \\displaystyle \\frac{1}{\\pi(k-j)} & \\textrm{otherwise}\n",
    "\\end{array}\n",
    "\\right. $$"
   ]
  },
  {
   "cell_type": "code",
   "execution_count": null,
   "metadata": {},
   "outputs": [],
   "source": [
    "from math import pi\n",
    "noda = numpy.zeros([len(data), len(data)])\n",
    "for i, j in numpy.ndindex(noda.shape):\n",
    "\tif i != j: noda[i, j] = 1 / pi / (j - i)"
   ]
  },
  {
   "cell_type": "markdown",
   "metadata": {},
   "source": [
    "異時相関スペクトル  \n",
    "$$\\Psi (\\nu_1, \\nu_2)=\\frac{1}{n-1} \\sum_{j=1}^{n} \\tilde{y}(\\nu_1, t_j) \\cdot \\sum_{k=1}^{n} M_{jk} \\cdot  \\tilde{y}(\\nu_2, t_k) $$"
   ]
  },
  {
   "cell_type": "code",
   "execution_count": null,
   "metadata": {},
   "outputs": [],
   "source": [
    "asyn = pandas.DataFrame(data.T.values @ noda @ data.values / (len(data) - 1), index=data.columns, columns=data.columns).T\n",
    "contour(asyn)"
   ]
  },
  {
   "cell_type": "markdown",
   "metadata": {},
   "source": [
    "(c) Shigeaki Morita"
   ]
  }
 ],
 "metadata": {
  "kernelspec": {
   "display_name": "Python 3",
   "language": "python",
   "name": "python3"
  },
  "language_info": {
   "codemirror_mode": {
    "name": "ipython",
    "version": 3
   },
   "file_extension": ".py",
   "mimetype": "text/x-python",
   "name": "python",
   "nbconvert_exporter": "python",
   "pygments_lexer": "ipython3",
   "version": "3.9.7"
  }
 },
 "nbformat": 4,
 "nbformat_minor": 2
}
