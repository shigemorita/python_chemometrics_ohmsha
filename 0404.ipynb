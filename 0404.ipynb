{
 "cells": [
  {
   "cell_type": "markdown",
   "metadata": {},
   "source": [
    "## Python で始める機器分析データの解析とケモメトリックス  \n",
    "### 4.4. ピーク検出"
   ]
  },
  {
   "cell_type": "code",
   "execution_count": null,
   "metadata": {},
   "outputs": [],
   "source": [
    "import pandas\n",
    "from matplotlib import pyplot\n",
    "from scipy import signal\n",
    "filename = \"data4.csv\"\n",
    "data = pandas.read_csv(filename, header=0, index_col=0).T\n",
    "data.index = pandas.read_csv(filename, header=None, index_col=0).iloc[0].values"
   ]
  },
  {
   "cell_type": "markdown",
   "metadata": {},
   "source": [
    "scipy.signal.find_peaks  \n",
    "https://docs.scipy.org/doc/scipy/reference/generated/scipy.signal.find_peaks.html  \n",
    "scipy.signal.argrelmax  \n",
    "https://docs.scipy.org/doc/scipy/reference/generated/scipy.signal.argrelmax.html  \n",
    "scipy.signal.argrelmin  \n",
    "https://docs.scipy.org/doc/scipy/reference/generated/scipy.signal.argrelmin.html  \n",
    "scipy.signal.argrelextrema  \n",
    "https://docs.scipy.org/doc/scipy/reference/generated/scipy.signal.argrelextrema.html"
   ]
  },
  {
   "cell_type": "code",
   "execution_count": null,
   "metadata": {},
   "outputs": [],
   "source": [
    "#p.070\n",
    "ar = data.iloc[0]\n",
    "peakindex = signal.find_peaks(ar.values, prominence=0.2)[0]  # ピーク検出\n",
    "# peakindex = signal.argrelmax(ar.values)[0]\n",
    "# peakindex = signal.argrelmin(ar.values)[0]\n",
    "# peakindex = signal.argrelextrema(ar.values, numpy.greater)[0]\n",
    "# peakindex = signal.argrelextrema(ar.values, numpy.less)[0]\n",
    "peak = ar.iloc[peakindex]\n",
    "print(peak)\n",
    "pyplot.plot(ar)\n",
    "pyplot.scatter(peak.index, peak.values)\n",
    "pyplot.show()"
   ]
  },
  {
   "cell_type": "code",
   "execution_count": null,
   "metadata": {},
   "outputs": [],
   "source": [
    "#p.071\n",
    "xmin, xmax = 1200, 1600\n",
    "df = data.iloc[:, (xmin <= data.columns) & (data.columns <= xmax)]\n",
    "peak = pandas.DataFrame([df.idxmax(axis=1), df.max(axis=1)], index=[\"retention time\", \"intensity\"], columns=data.index).T\n",
    "print(peak)\n",
    "pyplot.plot(df.T,color=\"blue\", linewidth=0.5)\n",
    "pyplot.scatter(peak.iloc[:, 0], peak.iloc[:, 1], color=\"red\")\n",
    "pyplot.show()"
   ]
  },
  {
   "cell_type": "markdown",
   "metadata": {},
   "source": [
    "(c) Shigeaki Morita"
   ]
  }
 ],
 "metadata": {
  "kernelspec": {
   "display_name": "Python 3.9.13 ('base')",
   "language": "python",
   "name": "python3"
  },
  "language_info": {
   "codemirror_mode": {
    "name": "ipython",
    "version": 3
   },
   "file_extension": ".py",
   "mimetype": "text/x-python",
   "name": "python",
   "nbconvert_exporter": "python",
   "pygments_lexer": "ipython3",
   "version": "3.9.13"
  },
  "vscode": {
   "interpreter": {
    "hash": "aa931a12cd616f100a3dbf0df00067e1067e9b65b97740d9adc59c84adb05e7e"
   }
  }
 },
 "nbformat": 4,
 "nbformat_minor": 4
}
