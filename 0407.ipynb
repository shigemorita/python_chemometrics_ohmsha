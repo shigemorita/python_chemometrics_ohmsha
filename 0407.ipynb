{
 "cells": [
  {
   "cell_type": "markdown",
   "metadata": {},
   "source": [
    "## Python で始める機器分析データの解析とケモメトリックス  \n",
    "### 4.7. Savitzky-Golayフィルター"
   ]
  },
  {
   "cell_type": "code",
   "execution_count": null,
   "metadata": {},
   "outputs": [],
   "source": [
    "import numpy\n",
    "import pandas\n",
    "from matplotlib import pyplot\n",
    "from scipy import signal"
   ]
  },
  {
   "cell_type": "code",
   "execution_count": null,
   "metadata": {},
   "outputs": [],
   "source": [
    "#p.083\n",
    "filename = \"data1.csv\"\n",
    "data = pandas.read_csv(filename, header=None, index_col=0).squeeze()\n",
    "noise = numpy.random.normal(loc=0, scale=1, size=len(data)) * 0.01\n",
    "data += noise\n",
    "pyplot.scatter(data.index, data, s=10)\n",
    "pyplot.show()"
   ]
  },
  {
   "cell_type": "markdown",
   "metadata": {},
   "source": [
    "scipy.signal.savgol_filter  \n",
    "https://docs.scipy.org/doc/scipy/reference/generated/scipy.signal.savgol_filter.html"
   ]
  },
  {
   "cell_type": "code",
   "execution_count": null,
   "metadata": {},
   "outputs": [],
   "source": [
    "#p.084\n",
    "window, polynom, order = 11, 2, 0  # 窓の幅, 多項式の次数, 微分の次数\n",
    "df = signal.savgol_filter(data, window, polynom, order)  # 0次微分（平滑化）\n",
    "df = pandas.Series(df, index=data.index)\n",
    "pyplot.scatter(data.index, data, s=10)\n",
    "df.plot(c=\"red\")"
   ]
  },
  {
   "cell_type": "code",
   "execution_count": null,
   "metadata": {},
   "outputs": [],
   "source": [
    "#p.085\n",
    "window, polynom, order = 11, 2, 1\n",
    "df = signal.savgol_filter(data, window, polynom, order)  # 1次微分 (order = 1)\n",
    "df = pandas.Series(df, index=data.index)\n",
    "df.plot()"
   ]
  },
  {
   "cell_type": "code",
   "execution_count": null,
   "metadata": {},
   "outputs": [],
   "source": [
    "#p.086\n",
    "window, polynom, order = 11, 2, 2\n",
    "df = signal.savgol_filter(data, window, polynom, order)  # 2次微分 (order = 2)\n",
    "df = pandas.Series(df, index=data.index)\n",
    "df.plot()"
   ]
  },
  {
   "cell_type": "code",
   "execution_count": null,
   "metadata": {},
   "outputs": [],
   "source": [
    "#p.086\n",
    "df = data\n",
    "window, polynom, order = 11, 2, 0\n",
    "df = signal.savgol_filter(df, window, polynom, order)  # 平滑化\n",
    "order = 1\n",
    "df = signal.savgol_filter(df, window, polynom, order)  # 1次微分\n",
    "order = 0\n",
    "df = signal.savgol_filter(df, window, polynom, order)  # 平滑化\n",
    "order = 1\n",
    "df = signal.savgol_filter(df, window, polynom, order)  # 1次微分\n",
    "df = pandas.Series(df, index=data.index)\n",
    "df.plot()"
   ]
  },
  {
   "cell_type": "code",
   "execution_count": null,
   "metadata": {},
   "outputs": [],
   "source": [
    "#p.087\n",
    "xmin, xmax, xdiv = 300, 700, 5\n",
    "x = numpy.arange(xmin, xmax + xdiv, xdiv)\n",
    "center, ymax, width = 450, 1, 100\n",
    "y1 = ymax * numpy.exp(-4 * numpy.log(2) * (x - center) ** 2 / width ** 2)\n",
    "center, ymax, width = 550, 0.5, 100\n",
    "y2 = ymax * numpy.exp(-4 * numpy.log(2) * (x - center) ** 2 / width ** 2)\n",
    "data = pandas.Series(y1 + y2, index=x)\n",
    "data.plot()"
   ]
  },
  {
   "cell_type": "code",
   "execution_count": null,
   "metadata": {},
   "outputs": [],
   "source": [
    "#p.088\n",
    "window, polynom, order = 5, 2, 2\n",
    "df = signal.savgol_filter(data, window, polynom, order)\n",
    "df = pandas.Series(df, index=data.index)\n",
    "df.plot()"
   ]
  },
  {
   "cell_type": "code",
   "execution_count": null,
   "metadata": {},
   "outputs": [],
   "source": [
    "#p.089\n",
    "filename = \"data3.csv\"\n",
    "data = pandas.read_csv(filename, header=0, index_col=0).T\n",
    "data.index = pandas.read_csv(filename, header=None, index_col=0).iloc[0].values\n",
    "data.T.plot(legend=None)"
   ]
  },
  {
   "cell_type": "code",
   "execution_count": null,
   "metadata": {},
   "outputs": [],
   "source": [
    "#p.090\n",
    "df = ((data.T - data.T.mean()) / data.T.std()).T\n",
    "df.T.plot(legend=None)  # SNV"
   ]
  },
  {
   "cell_type": "code",
   "execution_count": null,
   "metadata": {},
   "outputs": [],
   "source": [
    "#p.090\n",
    "window, polynom, order = 5, 2, 0\n",
    "df = signal.savgol_filter(df, window, polynom, order)\n",
    "order = 1\n",
    "df = signal.savgol_filter(df, window, polynom, order)\n",
    "order = 0\n",
    "df = signal.savgol_filter(df, window, polynom, order)\n",
    "order = 1\n",
    "df = signal.savgol_filter(df, window, polynom, order)\n",
    "df=pandas.DataFrame(df,index=data.index,columns=data.columns)\n",
    "df.T.plot(legend=None)  # 2次微分"
   ]
  },
  {
   "cell_type": "code",
   "execution_count": null,
   "metadata": {},
   "outputs": [],
   "source": [
    "#p.091\n",
    "df = df - df.mean() \n",
    "df.T.plot(legend=None)  # センタリング"
   ]
  },
  {
   "cell_type": "code",
   "execution_count": null,
   "metadata": {},
   "outputs": [],
   "source": [
    "#p.092\n",
    "df.var().plot()  # 分散"
   ]
  },
  {
   "cell_type": "markdown",
   "metadata": {},
   "source": [
    "(c) Shigeaki Morita"
   ]
  }
 ],
 "metadata": {
  "kernelspec": {
   "display_name": "Python 3 (ipykernel)",
   "language": "python",
   "name": "python3"
  },
  "language_info": {
   "codemirror_mode": {
    "name": "ipython",
    "version": 3
   },
   "file_extension": ".py",
   "mimetype": "text/x-python",
   "name": "python",
   "nbconvert_exporter": "python",
   "pygments_lexer": "ipython3",
   "version": "3.9.12"
  }
 },
 "nbformat": 4,
 "nbformat_minor": 4
}
