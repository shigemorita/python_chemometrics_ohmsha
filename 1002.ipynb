{
 "cells": [
  {
   "cell_type": "markdown",
   "metadata": {},
   "source": [
    "## Python で始める機器分析データの解析とケモメトリックス  \n",
    "\n",
    "### 10.2. 非線形最小二乗法"
   ]
  },
  {
   "cell_type": "code",
   "execution_count": null,
   "metadata": {},
   "outputs": [],
   "source": [
    "import numpy\n",
    "from matplotlib import pyplot"
   ]
  },
  {
   "cell_type": "code",
   "execution_count": null,
   "metadata": {},
   "outputs": [],
   "source": [
    "#p.180\n",
    "def gauss(x, a, c, w):\n",
    "\ty = a * numpy.exp(-4 * numpy.log(2) * (x - c) ** 2 / w ** 2)\n",
    "\treturn y"
   ]
  },
  {
   "cell_type": "code",
   "execution_count": null,
   "metadata": {},
   "outputs": [],
   "source": [
    "#p.180\n",
    "def fitfunc(x, a1, c1, w1, a2, c2, w2, a, b):\n",
    "\ty1 = gauss(x, a1, c1, w1)\n",
    "\ty2 = gauss(x, a2, c2, w2)\n",
    "\ty3 = a * x + b\n",
    "\ty = y1 + y2 + y3\n",
    "\treturn y"
   ]
  },
  {
   "cell_type": "code",
   "execution_count": null,
   "metadata": {},
   "outputs": [],
   "source": [
    "#p.180\n",
    "a1, c1, w1 = 1, 450, 100\n",
    "a2, c2, w2 =  0.5, 550, 100\n",
    "a, b = 0.0002, -0.02\n",
    "numpy.random.seed(0)\n",
    "x = numpy.arange(300, 705, 5)\n",
    "y = fitfunc(x, a1, c1, w1, a2, c2, w2, a, b) + numpy.random.normal(loc=0, scale=0.02, size=len(x))\n",
    "pyplot.scatter(x, y)\n",
    "pyplot.show()"
   ]
  },
  {
   "cell_type": "code",
   "execution_count": null,
   "metadata": {},
   "outputs": [],
   "source": [
    "#p.181\n",
    "from scipy.signal import savgol_filter\n",
    "buff = y\n",
    "buff = savgol_filter(buff, 9, 2, 0)\n",
    "buff = savgol_filter(buff, 9, 2, 1)\n",
    "buff = savgol_filter(buff, 9, 2, 0)\n",
    "buff = savgol_filter(buff, 9, 2, 1)\n",
    "pyplot.plot(x, buff)\n",
    "from scipy.signal import find_peaks\n",
    "peakindex = find_peaks(-buff)[0]\n",
    "pyplot.scatter(x[peakindex], buff[peakindex], c=\"red\")\n",
    "pyplot.show()\n",
    "print(x[peakindex])"
   ]
  },
  {
   "cell_type": "code",
   "execution_count": null,
   "metadata": {},
   "outputs": [],
   "source": [
    "#p.182\n",
    "c1, c2 = 455, 565\n",
    "a1, a2 = y[x==c1][0], y[x==c2][0]\n",
    "w1, w2 = 90, 90\n",
    "a, b = 0, 0.1\n",
    "pini = [a1, c1, w1, a2, c2, w2, a, b]\n",
    "p1 = gauss(x, a1, c1, w1)\n",
    "p2 = gauss(x, a2, c2, w2)\n",
    "p3 = a * x + b\n",
    "fit = fitfunc(x, a1, c1, w1, a2, c2, w2, a, b)\n",
    "pyplot.scatter(x, y)\n",
    "pyplot.plot(x, fit, c=\"red\")\n",
    "pyplot.plot(x, p1, c=\"green\")\n",
    "pyplot.plot(x, p2, c=\"green\")\n",
    "pyplot.plot(x, p3, c=\"green\")\n",
    "pyplot.show()"
   ]
  },
  {
   "cell_type": "markdown",
   "metadata": {},
   "source": [
    "scipy.optimize.curve_fit  \n",
    "https://docs.scipy.org/doc/scipy/reference/generated/scipy.optimize.curve_fit.html"
   ]
  },
  {
   "cell_type": "code",
   "execution_count": null,
   "metadata": {},
   "outputs": [],
   "source": [
    "#p.183\n",
    "from scipy.optimize import curve_fit\n",
    "p, cov = curve_fit(fitfunc, x, y, pini)\n",
    "fit = fitfunc(x, p[0], p[1], p[2], p[3], p[4], p[5], p[6], p[7])\n",
    "p1 = gauss(x, p[0], p[1], p[2])\n",
    "p2 = gauss(x, p[3], p[4], p[5])\n",
    "p3 = p[6] * x + p[7]\n",
    "pyplot.scatter(x, y)\n",
    "pyplot.plot(x, fit, c=\"red\")\n",
    "pyplot.plot(x, p1, c=\"green\")\n",
    "pyplot.plot(x, p2, c=\"green\")\n",
    "pyplot.plot(x, p3, c=\"green\")\n",
    "pyplot.show()\n",
    "print(\"a1 =\", p[0], \" a2 =\", p[3])\n",
    "print(\"c1 =\", p[1], \" c2 =\", p[4])\n",
    "print(\"w1 =\", p[2], \" w2 =\", p[5])\n",
    "print(\"a =\", p[6], \" b =\", p[7])"
   ]
  },
  {
   "cell_type": "code",
   "execution_count": null,
   "metadata": {},
   "outputs": [],
   "source": [
    "#p.184\n",
    "pyplot.scatter(x, y-fit)\n",
    "pyplot.plot(x, x*0, c=\"red\")\n",
    "pyplot.show()\n",
    "numpy.corrcoef(y, fit)[0, 1] ** 2\n",
    "print(\"R^2 =\", numpy.corrcoef(y, fit)[0, 1] ** 2)"
   ]
  },
  {
   "cell_type": "markdown",
   "metadata": {},
   "source": [
    "(c) Shigeaki Morita"
   ]
  }
 ],
 "metadata": {
  "interpreter": {
   "hash": "398c91425ba9501ad3ceb4348a18eb4e653d71098c9fe91723be7ca895e75769"
  },
  "kernelspec": {
   "display_name": "Python 3 (ipykernel)",
   "language": "python",
   "name": "python3"
  },
  "language_info": {
   "codemirror_mode": {
    "name": "ipython",
    "version": 3
   },
   "file_extension": ".py",
   "mimetype": "text/x-python",
   "name": "python",
   "nbconvert_exporter": "python",
   "pygments_lexer": "ipython3",
   "version": "3.9.12"
  }
 },
 "nbformat": 4,
 "nbformat_minor": 2
}
