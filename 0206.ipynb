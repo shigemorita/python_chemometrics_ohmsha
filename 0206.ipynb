{
 "cells": [
  {
   "cell_type": "markdown",
   "metadata": {},
   "source": [
    "## Python で始める機器分析データの解析とケモメトリックス  \n",
    "### 2.6. グラフ作成"
   ]
  },
  {
   "cell_type": "code",
   "execution_count": null,
   "metadata": {},
   "outputs": [],
   "source": [
    "#p.029\n",
    "import numpy\n",
    "import pandas\n",
    "from matplotlib import pyplot, ticker"
   ]
  },
  {
   "cell_type": "code",
   "execution_count": null,
   "metadata": {},
   "outputs": [],
   "source": [
    "#p.029\n",
    "filename = \"data2.csv\"\n",
    "data = pandas.read_csv(filename, header=0, index_col=0).T\n",
    "data.index = pandas.read_csv(filename, header=None, index_col=0).iloc[0].values\n",
    "x, y = data.columns, data.iloc[10]"
   ]
  },
  {
   "cell_type": "code",
   "execution_count": null,
   "metadata": {},
   "outputs": [],
   "source": [
    "pyplot.plot(x, y)\n",
    "pyplot.show()"
   ]
  },
  {
   "cell_type": "code",
   "execution_count": null,
   "metadata": {},
   "outputs": [],
   "source": [
    "pyplot.scatter(x, y)\n",
    "pyplot.show()"
   ]
  },
  {
   "cell_type": "markdown",
   "metadata": {},
   "source": [
    "範囲指定  \n",
    "https://matplotlib.org/stable/api/_as_gen/matplotlib.pyplot.xlim.html  \n",
    "https://matplotlib.org/stable/api/_as_gen/matplotlib.pyplot.ylim.html"
   ]
  },
  {
   "cell_type": "code",
   "execution_count": null,
   "metadata": {},
   "outputs": [],
   "source": [
    "#p.030\n",
    "left, right = 400, 600\n",
    "pyplot.xlim(left, right)  # 横軸の範囲指定\n",
    "bottom, top = 0, 1.1\n",
    "pyplot.ylim(bottom, top)  # 縦軸の範囲指定\n",
    "pyplot.plot(x, y)\n",
    "pyplot.show()"
   ]
  },
  {
   "cell_type": "markdown",
   "metadata": {},
   "source": [
    "軸の反転"
   ]
  },
  {
   "cell_type": "code",
   "execution_count": null,
   "metadata": {},
   "outputs": [],
   "source": [
    "#p.031\n",
    "pyplot.xlim(numpy.max(x), numpy.min(x))  # 横軸の反転\n",
    "pyplot.ylim(numpy.max(y), numpy.min(y))  # 縦軸の反転\n",
    "pyplot.plot(x, y)\n",
    "pyplot.show()"
   ]
  },
  {
   "cell_type": "markdown",
   "metadata": {},
   "source": [
    "オブジェクト指向  \n",
    "https://matplotlib.org/stable/api/_as_gen/matplotlib.pyplot.figure.html\n"
   ]
  },
  {
   "cell_type": "code",
   "execution_count": null,
   "metadata": {},
   "outputs": [],
   "source": [
    "#p.032\n",
    "fig = pyplot.figure()  # Figureオブジェクトの準備\n",
    "left, bottom, width, height = 0, 0, 1, 1\n",
    "ax = fig.add_axes((left, bottom, width, height))  # Axesオブジェクトの準備\n",
    "ax.plot(x, y)\n",
    "pyplot.show()"
   ]
  },
  {
   "cell_type": "code",
   "execution_count": null,
   "metadata": {},
   "outputs": [],
   "source": [
    "#p.033\n",
    "fig = pyplot.figure()\n",
    "ax1 = fig.add_axes((0, 0, 1, 1))\n",
    "for i in range(len(data)):\n",
    "    ax1.plot(data.columns, data.iloc[i])\n",
    "ax2 = fig.add_axes((0.7, 0.6, 0.25, 0.3))\n",
    "ax2.scatter(data.index, data.loc[:, 500])\n",
    "pyplot.show()"
   ]
  },
  {
   "cell_type": "code",
   "execution_count": null,
   "metadata": {},
   "outputs": [],
   "source": [
    "#p.033\n",
    "fig = pyplot.figure()\n",
    "ax = fig.add_axes((0, 0, 1, 1))\n",
    "ax.set_xlim(300, 700) #横軸の範囲\n",
    "ax.set_xticks(numpy.arange(300, 750, 50))  # 横軸の主目盛り\n",
    "ax.xaxis.set_minor_locator(ticker.MultipleLocator(10))  # 横軸の副目盛り\n",
    "ax.set_xlabel(\"Wavelength / nm\")  # 横軸のラベル\n",
    "ax.set_ylim(-0.1, 1.1)  # 縦軸の範囲\n",
    "ax.set_yticks(numpy.arange(0, 1.2, 0.2))  # 縦軸の主目盛り\n",
    "ax.yaxis.set_minor_locator(ticker.MultipleLocator(0.05))  # 縦軸の副目盛り\n",
    "ax.set_ylabel(\"Absorbance\")  # 縦軸のラベル\n",
    "for i in range(len(data)):\n",
    "    ax.plot(data.columns, data.iloc[i], color=\"black\")\n",
    "pyplot.show()"
   ]
  },
  {
   "cell_type": "markdown",
   "metadata": {},
   "source": [
    "Matplotlib  \n",
    "https://matplotlib.org/  \n",
    "  \n",
    "matplotlib.pyplot  \n",
    "https://matplotlib.org/api/pyplot_api.html  \n",
    "\n",
    "matplotlib.ticker  \n",
    "https://matplotlib.org/api/ticker_api.html  \n",
    "\n",
    "Customizing Matplotlib with style sheets and rcParams  \n",
    "https://matplotlib.org/tutorials/introductory/customizing.html  \n",
    "\n",
    "matplotlib.pyplot.savefig  \n",
    "https://matplotlib.org/api/_as_gen/matplotlib.pyplot.savefig.html  \n",
    "\n",
    "ギャラリー  \n",
    "https://matplotlib.org/gallery/  \n",
    "\n",
    "(c) Shigeaki Morita"
   ]
  }
 ],
 "metadata": {
  "kernelspec": {
   "display_name": "Python 3.9.13 ('base')",
   "language": "python",
   "name": "python3"
  },
  "language_info": {
   "codemirror_mode": {
    "name": "ipython",
    "version": 3
   },
   "file_extension": ".py",
   "mimetype": "text/x-python",
   "name": "python",
   "nbconvert_exporter": "python",
   "pygments_lexer": "ipython3",
   "version": "3.9.13"
  },
  "vscode": {
   "interpreter": {
    "hash": "aa931a12cd616f100a3dbf0df00067e1067e9b65b97740d9adc59c84adb05e7e"
   }
  }
 },
 "nbformat": 4,
 "nbformat_minor": 4
}
