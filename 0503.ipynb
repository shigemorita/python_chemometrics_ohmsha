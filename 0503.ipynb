{
 "cells": [
  {
   "cell_type": "markdown",
   "metadata": {},
   "source": [
    "## Python で始める機器分析データの解析とケモメトリックス  \n",
    "### 5.3. 混合物のスペクトル"
   ]
  },
  {
   "cell_type": "code",
   "execution_count": null,
   "metadata": {},
   "outputs": [],
   "source": [
    "import numpy\n",
    "from matplotlib import pyplot"
   ]
  },
  {
   "cell_type": "code",
   "execution_count": null,
   "metadata": {},
   "outputs": [],
   "source": [
    "#p.100\n",
    "A = numpy.matrix([0.38, 0.35, 0.35])\n",
    "K = numpy.matrix([[1.0, 0.5, 0.1], [0.2, 0.5, 0.8]])\n",
    "C = A * K.T * (K * K.T).I\n",
    "print(C)"
   ]
  },
  {
   "cell_type": "code",
   "execution_count": null,
   "metadata": {},
   "outputs": [],
   "source": [
    "fig = pyplot.figure()\n",
    "ax = fig.add_axes((0, 0, 1, 1), projection=\"3d\")\n",
    "ax.set_xlabel(\"x\")\n",
    "ax.set_ylabel(\"y\")\n",
    "ax.set_zlabel(\"z\")\n",
    "lim = 1.25\n",
    "ax.set_xlim(-lim, lim)\n",
    "ax.set_ylim(-lim, lim)\n",
    "ax.set_zlim(-lim, lim)\n",
    "\n",
    "K1 = [1.0, 0.5, 0.1]\n",
    "ax.quiver(0, 0, 0, K1[0], K1[1], K1[2], color=\"blue\")\n",
    "ax.text(K1[0], K1[1], K1[2], \"K1\")\n",
    "\n",
    "K2 = [0.2, 0.5, 0.8]\n",
    "ax.quiver(0, 0, 0, K2[0], K2[1], K2[2], color=\"blue\")\n",
    "ax.text(K2[0], K2[1], K2[2], \"K2\")\n",
    "\n",
    "A = [0.38, 0.35, 0.35]\n",
    "ax.quiver(0, 0, 0, A[0], A[1], A[2], color=\"red\")\n",
    "ax.text(A[0], A[1], A[2], \"A\")\n",
    "\n",
    "ax.scatter(0, 0, 0, c=\"red\")\n",
    "pyplot.show()"
   ]
  }
 ],
 "metadata": {
  "kernelspec": {
   "display_name": "Python 3.9.13 ('base')",
   "language": "python",
   "name": "python3"
  },
  "language_info": {
   "codemirror_mode": {
    "name": "ipython",
    "version": 3
   },
   "file_extension": ".py",
   "mimetype": "text/x-python",
   "name": "python",
   "nbconvert_exporter": "python",
   "pygments_lexer": "ipython3",
   "version": "3.9.13"
  },
  "vscode": {
   "interpreter": {
    "hash": "aa931a12cd616f100a3dbf0df00067e1067e9b65b97740d9adc59c84adb05e7e"
   }
  }
 },
 "nbformat": 4,
 "nbformat_minor": 2
}
