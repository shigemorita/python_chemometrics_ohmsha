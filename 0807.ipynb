{
 "cells": [
  {
   "cell_type": "markdown",
   "metadata": {},
   "source": [
    "## Python で始める機器分析データの解析とケモメトリックス  \n",
    "### 8.7. ハイパーパラメータのチューニングとクロスバリデーション"
   ]
  },
  {
   "cell_type": "code",
   "execution_count": null,
   "metadata": {},
   "outputs": [],
   "source": [
    "import numpy\n",
    "import pandas\n",
    "from matplotlib import pyplot"
   ]
  },
  {
   "cell_type": "code",
   "execution_count": null,
   "metadata": {},
   "outputs": [],
   "source": [
    "data = pandas.read_csv(\"data3.csv\", header=0, index_col=0).T\n",
    "data.index = pandas.read_csv(\"prop3.csv\", header=0, index_col=0).iloc[:, 2].values\n",
    "data = ((data.T - data.T.mean()) / data.T.std()).T\n",
    "from scipy.signal import savgol_filter\n",
    "buff = data\n",
    "buff = savgol_filter(buff, 7, 2, 0)\n",
    "buff = savgol_filter(buff, 7, 2, 1)\n",
    "buff = savgol_filter(buff, 7, 2, 0)\n",
    "buff = savgol_filter(buff, 7, 2, 1)\n",
    "data = pandas.DataFrame(buff, index=data.index, columns=data.columns)\n",
    "from sklearn.model_selection import train_test_split\n",
    "train, test = train_test_split(data, train_size=0.6, random_state=8)"
   ]
  },
  {
   "cell_type": "markdown",
   "metadata": {},
   "source": [
    "sklearn.pipeline.make_pipeline  \n",
    "https://scikit-learn.org/stable/modules/generated/sklearn.pipeline.make_pipeline.html"
   ]
  },
  {
   "cell_type": "code",
   "execution_count": null,
   "metadata": {},
   "outputs": [],
   "source": [
    "#p.148\n",
    "from sklearn.decomposition import PCA\n",
    "from sklearn.linear_model import LinearRegression\n",
    "from sklearn.pipeline import make_pipeline\n",
    "PCR = make_pipeline(PCA(), LinearRegression())\n",
    "PCR"
   ]
  },
  {
   "cell_type": "code",
   "execution_count": null,
   "metadata": {},
   "outputs": [],
   "source": [
    "#p.148\n",
    "PCR.set_params(pca__n_components=10)\n",
    "model = PCR.fit(test.values, test.index)"
   ]
  },
  {
   "cell_type": "markdown",
   "metadata": {},
   "source": [
    "sklearn.model_selection.GridSearchCV  \n",
    "https://scikit-learn.org/stable/modules/generated/sklearn.model_selection.GridSearchCV.html"
   ]
  },
  {
   "cell_type": "code",
   "execution_count": null,
   "metadata": {},
   "outputs": [],
   "source": [
    "#p.150, p.151\n",
    "p1 = numpy.arange(1, 31, 1)\n",
    "parm = {\"pca__n_components\": p1}\n",
    "from sklearn.model_selection import GridSearchCV\n",
    "search = GridSearchCV(PCR, parm, cv=3).fit(data.values, data.index)\n",
    "pyplot.scatter(p1, search.cv_results_[\"mean_test_score\"])\n",
    "pyplot.show()\n",
    "print(search.best_estimator_)\n",
    "print(search.best_score_)"
   ]
  },
  {
   "cell_type": "code",
   "execution_count": null,
   "metadata": {},
   "outputs": [],
   "source": [
    "#p.151\n",
    "model = search.best_estimator_.fit(train.values, train.index)\n",
    "calibration = model.predict(train.values)\n",
    "validation = model.predict(test.values)"
   ]
  },
  {
   "cell_type": "code",
   "execution_count": null,
   "metadata": {},
   "outputs": [],
   "source": [
    "pyplot.figure(figsize=(4, 4))\n",
    "pyplot.plot([data.index.min(), data.index.max()], [data.index.min(), data.index.max()], c=\"black\")\n",
    "pyplot.scatter(train.index, calibration, label=\"calibration\")\n",
    "pyplot.scatter(test.index, validation, label=\"validation\")\n",
    "pyplot.legend()\n",
    "pyplot.show()\n",
    "from sklearn.metrics import mean_squared_error, r2_score\n",
    "print(\"RMSEC =\", numpy.sqrt(mean_squared_error(train.index, calibration)))\n",
    "print(\"R^2 =\", r2_score(train.index, calibration))\n",
    "print(\"\")\n",
    "print(\"RMSEV =\", numpy.sqrt(mean_squared_error(test.index, validation)))\n",
    "print(\"R^2 =\", r2_score(test.index, validation))"
   ]
  },
  {
   "cell_type": "markdown",
   "metadata": {},
   "source": [
    "(c) Shigeaki Morita"
   ]
  }
 ],
 "metadata": {
  "kernelspec": {
   "display_name": "Python 3.9.13 ('base')",
   "language": "python",
   "name": "python3"
  },
  "language_info": {
   "codemirror_mode": {
    "name": "ipython",
    "version": 3
   },
   "file_extension": ".py",
   "mimetype": "text/x-python",
   "name": "python",
   "nbconvert_exporter": "python",
   "pygments_lexer": "ipython3",
   "version": "3.9.13"
  },
  "vscode": {
   "interpreter": {
    "hash": "aa931a12cd616f100a3dbf0df00067e1067e9b65b97740d9adc59c84adb05e7e"
   }
  }
 },
 "nbformat": 4,
 "nbformat_minor": 4
}
