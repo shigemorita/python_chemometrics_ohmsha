{
 "cells": [
  {
   "cell_type": "markdown",
   "metadata": {},
   "source": [
    "## Python で始める機器分析データの解析とケモメトリックス  \n",
    "### 8.3. 線形重回帰 (MLR)"
   ]
  },
  {
   "cell_type": "code",
   "execution_count": null,
   "metadata": {},
   "outputs": [],
   "source": [
    "import numpy\n",
    "import pandas\n",
    "from matplotlib import pyplot"
   ]
  },
  {
   "cell_type": "code",
   "execution_count": null,
   "metadata": {},
   "outputs": [],
   "source": [
    "data = pandas.read_csv(\"data3.csv\", header=0, index_col=0).T\n",
    "data.index = pandas.read_csv(\"prop3.csv\", header=0, index_col=0).iloc[:, 2].values\n",
    "data = ((data.T - data.T.mean()) / data.T.std()).T\n",
    "from scipy.signal import savgol_filter\n",
    "buff = data\n",
    "buff = savgol_filter(buff, 7, 2, 0)\n",
    "buff = savgol_filter(buff, 7, 2, 1)\n",
    "buff = savgol_filter(buff, 7, 2, 0)\n",
    "buff = savgol_filter(buff, 7, 2, 1)\n",
    "data = pandas.DataFrame(buff, index=data.index, columns=data.columns)\n",
    "from sklearn.model_selection import train_test_split\n",
    "train, test = train_test_split(data, train_size=0.6, random_state=8)"
   ]
  },
  {
   "cell_type": "code",
   "execution_count": null,
   "metadata": {},
   "outputs": [],
   "source": [
    "#p.138\n",
    "from sklearn.linear_model import LinearRegression\n",
    "model = LinearRegression().fit(train.values, train.index)"
   ]
  },
  {
   "cell_type": "code",
   "execution_count": null,
   "metadata": {},
   "outputs": [],
   "source": [
    "#p.138\n",
    "x = data.columns\n",
    "y = model.coef_\n",
    "pyplot.plot(x, y)\n",
    "pyplot.show()\n",
    "print(\"b0 =\", model.intercept_)"
   ]
  },
  {
   "cell_type": "code",
   "execution_count": null,
   "metadata": {},
   "outputs": [],
   "source": [
    "spec = train.iloc[0]\n",
    "print(train.index[0])\n",
    "print(model.predict([spec.values])[0])\n",
    "print(spec.values @ model.coef_ + model.intercept_)"
   ]
  },
  {
   "cell_type": "code",
   "execution_count": null,
   "metadata": {},
   "outputs": [],
   "source": [
    "#p.139\n",
    "calibration = model.predict(train.values)\n",
    "pyplot.figure(figsize=(4, 4))\n",
    "pyplot.scatter(train.index, calibration)\n",
    "pyplot.plot([data.index.min(), data.index.max()], [data.index.min(), data.index.max()])\n",
    "pyplot.show()\n",
    "from sklearn.metrics import mean_squared_error, r2_score\n",
    "print(\"RMSEC =\", numpy.sqrt(mean_squared_error(train.index, calibration)))\n",
    "print(\"R^2 =\", r2_score(train.index, calibration))"
   ]
  },
  {
   "cell_type": "code",
   "execution_count": null,
   "metadata": {},
   "outputs": [],
   "source": [
    "#p.140\n",
    "from scipy.signal import find_peaks\n",
    "peakindex = find_peaks(train.var(), prominence=1.0e-8)[0]\n",
    "peak = train.var().iloc[peakindex]\n",
    "train.var().plot()\n",
    "pyplot.scatter(peak.index, peak.values)\n",
    "pyplot.show()\n",
    "print(peak.index.tolist())"
   ]
  },
  {
   "cell_type": "code",
   "execution_count": null,
   "metadata": {},
   "outputs": [],
   "source": [
    "#p.141\n",
    "train_peaks = train.iloc[:, peakindex]\n",
    "test_peaks = test.iloc[:, peakindex]\n",
    "model = LinearRegression().fit(train_peaks.values, train_peaks.index)\n",
    "calibration = model.predict(train_peaks.values)\n",
    "validation = model.predict(test_peaks.values)"
   ]
  },
  {
   "cell_type": "code",
   "execution_count": null,
   "metadata": {},
   "outputs": [],
   "source": [
    "#p.142\n",
    "pyplot.figure(figsize=(4, 4))\n",
    "pyplot.plot([data.index.min(), data.index.max()], [data.index.min(), data.index.max()], c=\"black\")\n",
    "pyplot.scatter(train.index, calibration, label=\"calibration\")\n",
    "pyplot.scatter(test.index, validation, label=\"validation\")\n",
    "pyplot.legend()\n",
    "pyplot.show()\n",
    "from sklearn.metrics import mean_squared_error, r2_score\n",
    "print(\"RMSEC =\", numpy.sqrt(mean_squared_error(train.index, calibration)))\n",
    "print(\"R^2 =\", r2_score(train.index, calibration))\n",
    "print(\"\")\n",
    "print(\"RMSEV =\", numpy.sqrt(mean_squared_error(test.index, validation)))\n",
    "print(\"R^2 =\", r2_score(test.index, validation))"
   ]
  },
  {
   "cell_type": "markdown",
   "metadata": {},
   "source": [
    "(c) Shigeaki Morita"
   ]
  }
 ],
 "metadata": {
  "kernelspec": {
   "display_name": "Python 3 (ipykernel)",
   "language": "python",
   "name": "python3"
  },
  "language_info": {
   "codemirror_mode": {
    "name": "ipython",
    "version": 3
   },
   "file_extension": ".py",
   "mimetype": "text/x-python",
   "name": "python",
   "nbconvert_exporter": "python",
   "pygments_lexer": "ipython3",
   "version": "3.9.12"
  }
 },
 "nbformat": 4,
 "nbformat_minor": 4
}
