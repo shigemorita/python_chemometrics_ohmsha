{
 "cells": [
  {
   "cell_type": "markdown",
   "metadata": {},
   "source": [
    "## Python で始める機器分析データの解析とケモメトリックス  \n",
    "\n",
    "### 6. 次元削減"
   ]
  },
  {
   "cell_type": "code",
   "execution_count": null,
   "metadata": {},
   "outputs": [],
   "source": [
    "import numpy\n",
    "import pandas"
   ]
  },
  {
   "cell_type": "code",
   "execution_count": null,
   "metadata": {},
   "outputs": [],
   "source": [
    "#p.103\n",
    "x = numpy.arange(0, 81, 1)  # 説明変数\n",
    "c = numpy.arange(0, 11, 1)  # サンプル変数\n",
    "y1 = 0.1 * numpy.exp(-4 * numpy.log(2) * (x - 30) ** 2 / 20 ** 2)\n",
    "y2 = 0.05 * numpy.exp(-4 * numpy.log(2) * (x - 50) ** 2 / 20 ** 2)\n",
    "y3 = numpy.random.rand(len(c), len(x)) * 0.01\n",
    "y = numpy.array([c]).T * y1 + numpy.array([10 - c]).T * y2 + y3 # 信号強度\n",
    "data = pandas.DataFrame(y, index=c, columns=x)\n",
    "data.T.to_csv(\"data6.csv\")\n",
    "data.T.plot()"
   ]
  },
  {
   "cell_type": "markdown",
   "metadata": {},
   "source": [
    "(c) Shigeaki Morita"
   ]
  }
 ],
 "metadata": {
  "kernelspec": {
   "display_name": "Python 3.9.13 ('base')",
   "language": "python",
   "name": "python3"
  },
  "language_info": {
   "codemirror_mode": {
    "name": "ipython",
    "version": 3
   },
   "file_extension": ".py",
   "mimetype": "text/x-python",
   "name": "python",
   "nbconvert_exporter": "python",
   "pygments_lexer": "ipython3",
   "version": "3.9.13"
  },
  "vscode": {
   "interpreter": {
    "hash": "aa931a12cd616f100a3dbf0df00067e1067e9b65b97740d9adc59c84adb05e7e"
   }
  }
 },
 "nbformat": 4,
 "nbformat_minor": 2
}
