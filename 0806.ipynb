{
 "cells": [
  {
   "cell_type": "markdown",
   "metadata": {},
   "source": [
    "## Python で始める機器分析データの解析とケモメトリックス  \n",
    "### 8.6. 主成分回帰 (PCR)"
   ]
  },
  {
   "cell_type": "code",
   "execution_count": null,
   "metadata": {},
   "outputs": [],
   "source": [
    "import numpy\n",
    "import pandas\n",
    "from matplotlib import pyplot"
   ]
  },
  {
   "cell_type": "code",
   "execution_count": null,
   "metadata": {},
   "outputs": [],
   "source": [
    "data = pandas.read_csv(\"data3.csv\", header=0, index_col=0).T\n",
    "data.index = pandas.read_csv(\"prop3.csv\", header=0, index_col=0).iloc[:, 2].values\n",
    "data = ((data.T - data.T.mean()) / data.T.std()).T\n",
    "from scipy.signal import savgol_filter\n",
    "buff = data\n",
    "buff = savgol_filter(buff, 7, 2, 0)\n",
    "buff = savgol_filter(buff, 7, 2, 1)\n",
    "buff = savgol_filter(buff, 7, 2, 0)\n",
    "buff = savgol_filter(buff, 7, 2, 1)\n",
    "data = pandas.DataFrame(buff, index=data.index, columns=data.columns)\n",
    "from sklearn.model_selection import train_test_split\n",
    "train, test = train_test_split(data, train_size=0.6, random_state=8)"
   ]
  },
  {
   "cell_type": "code",
   "execution_count": null,
   "metadata": {},
   "outputs": [],
   "source": [
    "from sklearn.decomposition import PCA\n",
    "model = PCA().fit(train.values)\n",
    "pyplot.plot(model.explained_variance_ratio_)\n",
    "pyplot.show()"
   ]
  },
  {
   "cell_type": "code",
   "execution_count": null,
   "metadata": {},
   "outputs": [],
   "source": [
    "model = PCA(n_components=10).fit(train.values)\n",
    "train_score = model.transform(train.values)\n",
    "test_score = model.transform(test.values)"
   ]
  },
  {
   "cell_type": "code",
   "execution_count": null,
   "metadata": {},
   "outputs": [],
   "source": [
    "from sklearn.linear_model import LinearRegression\n",
    "model = LinearRegression().fit(train_score, train.index)\n",
    "calibration = model.predict(train_score)\n",
    "validation = model.predict(test_score)"
   ]
  },
  {
   "cell_type": "code",
   "execution_count": null,
   "metadata": {},
   "outputs": [],
   "source": [
    "pyplot.figure(figsize=(4, 4))\n",
    "pyplot.plot([data.index.min(), data.index.max()], [data.index.min(), data.index.max()], c=\"black\")\n",
    "pyplot.scatter(train.index, calibration, label=\"calibration\")\n",
    "pyplot.scatter(test.index, validation, label=\"validation\")\n",
    "pyplot.legend()\n",
    "pyplot.show()\n",
    "from sklearn.metrics import mean_squared_error, r2_score\n",
    "print(\"RMSEC =\", numpy.sqrt(mean_squared_error(train.index, calibration)))\n",
    "print(\"R^2 =\", r2_score(train.index, calibration))\n",
    "print(\"\")\n",
    "print(\"RMSEV =\", numpy.sqrt(mean_squared_error(test.index, validation)))\n",
    "print(\"R^2 =\", r2_score(test.index, validation))"
   ]
  },
  {
   "cell_type": "markdown",
   "metadata": {},
   "source": [
    "(c) Shigeaki Morita"
   ]
  }
 ],
 "metadata": {
  "kernelspec": {
   "display_name": "Python 3 (ipykernel)",
   "language": "python",
   "name": "python3"
  },
  "language_info": {
   "codemirror_mode": {
    "name": "ipython",
    "version": 3
   },
   "file_extension": ".py",
   "mimetype": "text/x-python",
   "name": "python",
   "nbconvert_exporter": "python",
   "pygments_lexer": "ipython3",
   "version": "3.8.13"
  }
 },
 "nbformat": 4,
 "nbformat_minor": 4
}
