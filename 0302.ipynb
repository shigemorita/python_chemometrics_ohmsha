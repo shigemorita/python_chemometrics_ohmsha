{
 "cells": [
  {
   "cell_type": "markdown",
   "metadata": {},
   "source": [
    "## Python で始める機器分析データの解析とケモメトリックス  \n",
    "### 3.2. 基本的な統計量の計算"
   ]
  },
  {
   "cell_type": "code",
   "execution_count": null,
   "metadata": {},
   "outputs": [],
   "source": [
    "#p.040\n",
    "import numpy\n",
    "import pandas\n",
    "df = pandas.read_csv(\"prop3.csv\", header=0, index_col=0)\n",
    "print(df)"
   ]
  },
  {
   "cell_type": "markdown",
   "metadata": {},
   "source": [
    "pandas.DataFrame.describe  \n",
    "https://pandas.pydata.org/pandas-docs/stable/reference/api/pandas.DataFrame.describe.html"
   ]
  },
  {
   "cell_type": "code",
   "execution_count": null,
   "metadata": {},
   "outputs": [],
   "source": [
    "#p.040\n",
    "print(df.describe())"
   ]
  },
  {
   "cell_type": "code",
   "execution_count": null,
   "metadata": {},
   "outputs": [],
   "source": [
    "#p.041\n",
    "buff = pandas.DataFrame(index=numpy.arange(8), columns=df.columns)\n",
    "buff.iloc[0] = df.count()  # サンプルサイズ\n",
    "buff.iloc[1] = df.mean()  # 平均\n",
    "buff.iloc[2] = df.std(ddof=1)  # 標準偏差\n",
    "buff.iloc[3] = df.min()  # 最小値\n",
    "buff.iloc[4] = df.quantile(q=0.25)  # 1/4分位数\n",
    "buff.iloc[5] = df.median()  # 中央値\n",
    "buff.iloc[6] = df.quantile(q=0.75)  # 3/4分位数\n",
    "buff.iloc[7] = df.max()  # 最大値\n",
    "print(buff)"
   ]
  },
  {
   "cell_type": "code",
   "execution_count": null,
   "metadata": {},
   "outputs": [],
   "source": [
    "#p.042\n",
    "ar = df.iloc[:, 0].tolist()\n",
    "buff = pandas.DataFrame(index=numpy.arange(8), columns=[df.columns[0]])\n",
    "buff.iloc[0] = len(ar)  # サンプルサイズ\n",
    "buff.iloc[1] = numpy.mean(ar)  # 平均\n",
    "buff.iloc[2] = numpy.std(ar, ddof=1)  # 標準偏差\n",
    "buff.iloc[3] = min(ar)  # 最小値\n",
    "buff.iloc[4] = numpy.quantile(ar, q=0.25)  # 1/4分位数\n",
    "buff.iloc[5] = numpy.median(ar)  # 中央値\n",
    "buff.iloc[6] = numpy.quantile(ar, q=0.75)  # 3/4分位数\n",
    "buff.iloc[7] = max(ar)  # 最大値\n",
    "print(buff)"
   ]
  },
  {
   "cell_type": "markdown",
   "metadata": {},
   "source": [
    "サンプルサイズ：len  \n",
    "https://docs.python.org/ja/3/library/functions.html#len  \n",
    "平均：numpy.mean  \n",
    "https://numpy.org/doc/stable/reference/generated/numpy.mean.html  \n",
    "標準偏差：numpy.std  \n",
    "https://numpy.org/doc/stable/reference/generated/numpy.std.html  \n",
    "最小値：min  \n",
    "https://docs.python.org/ja/3/library/functions.html#min  \n",
    "分位数：numpy.quantile  \n",
    "https://numpy.org/doc/stable/reference/generated/numpy.quantile.html  \n",
    "中央値：numpy.median  \n",
    "https://numpy.org/doc/stable/reference/generated/numpy.median.html  \n",
    "最大値：max  \n",
    "https://docs.python.org/ja/3/library/functions.html#max"
   ]
  },
  {
   "cell_type": "markdown",
   "metadata": {},
   "source": [
    "(c) Shigeaki Morita"
   ]
  }
 ],
 "metadata": {
  "kernelspec": {
   "display_name": "Python 3.9.13 ('base')",
   "language": "python",
   "name": "python3"
  },
  "language_info": {
   "codemirror_mode": {
    "name": "ipython",
    "version": 3
   },
   "file_extension": ".py",
   "mimetype": "text/x-python",
   "name": "python",
   "nbconvert_exporter": "python",
   "pygments_lexer": "ipython3",
   "version": "3.9.13"
  },
  "vscode": {
   "interpreter": {
    "hash": "aa931a12cd616f100a3dbf0df00067e1067e9b65b97740d9adc59c84adb05e7e"
   }
  }
 },
 "nbformat": 4,
 "nbformat_minor": 4
}
