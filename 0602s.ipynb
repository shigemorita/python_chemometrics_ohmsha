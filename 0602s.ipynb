{
 "cells": [
  {
   "cell_type": "code",
   "execution_count": null,
   "metadata": {},
   "outputs": [],
   "source": [
    "import numpy\n",
    "from matplotlib import pyplot, ticker\n",
    "pyplot.rcParams.update(pyplot.rcParamsDefault)\n",
    "# font\n",
    "pyplot.rcParams[\"font.size\"] = 24\n",
    "pyplot.rcParams[\"font.family\"] = \"serif\"\n",
    "pyplot.rcParams[\"font.serif\"] = \"Times New Roman\"\n",
    "# tick\n",
    "pyplot.rcParams[\"xtick.bottom\"] = True\n",
    "pyplot.rcParams[\"xtick.top\"] = True\n",
    "pyplot.rcParams[\"ytick.left\"] = True\n",
    "pyplot.rcParams[\"ytick.right\"] = True\n",
    "pyplot.rcParams[\"xtick.direction\"] = \"in\"\n",
    "pyplot.rcParams[\"ytick.direction\"] = \"in\"\n",
    "pyplot.rcParams[\"xtick.major.size\"] = 10\n",
    "pyplot.rcParams[\"ytick.major.size\"] = 10\n",
    "pyplot.rcParams[\"xtick.minor.size\"] = 5\n",
    "pyplot.rcParams[\"ytick.minor.size\"] = 5\n",
    "# line\n",
    "pyplot.rcParams[\"lines.linewidth\"] = 2\n",
    "pyplot.rcParams[\"axes.linewidth\"] = 2\n",
    "pyplot.rcParams[\"xtick.major.width\"] = 2\n",
    "pyplot.rcParams[\"ytick.major.width\"] = 2\n",
    "pyplot.rcParams[\"xtick.minor.width\"] = 2\n",
    "pyplot.rcParams[\"ytick.minor.width\"] = 2\n",
    "# pad\n",
    "pyplot.rcParams[\"axes.labelpad\"] = 15\n",
    "pyplot.rcParams[\"xtick.major.pad\"] = 18\n",
    "pyplot.rcParams[\"ytick.major.pad\"] = 18\n",
    "# save\n",
    "pyplot.rcParams[\"savefig.format\"] = \"png\"\n",
    "pyplot.rcParams[\"savefig.dpi\"] = 150\n",
    "pyplot.rcParams[\"savefig.transparent\"] = False\n",
    "pyplot.rcParams[\"savefig.bbox\"] = \"tight\""
   ]
  },
  {
   "cell_type": "code",
   "execution_count": null,
   "metadata": {},
   "outputs": [],
   "source": [
    "x0, y0 = 9, 4\n",
    "numpy.random.seed(0)\n",
    "x = 3 * numpy.random.randn(1000) + x0\n",
    "y = 2 * numpy.random.randn(1000) + y0\n",
    "data = numpy.matrix([x, y])\n",
    "\n",
    "t = numpy.deg2rad(30)\n",
    "r = numpy.matrix([[numpy.cos(t), numpy.sin(t)], [numpy.sin(t), numpy.cos(t)]])\n",
    "data = r * data"
   ]
  },
  {
   "cell_type": "code",
   "execution_count": null,
   "metadata": {},
   "outputs": [],
   "source": [
    "from sklearn.decomposition import PCA\n",
    "model = PCA().fit(data.T)"
   ]
  },
  {
   "cell_type": "code",
   "execution_count": null,
   "metadata": {},
   "outputs": [],
   "source": [
    "fig = pyplot.figure(figsize=(4, 4))\n",
    "ax = fig.add_axes((0, 0, 1, 1))\n",
    "ax.set_xlim(0, 20)\n",
    "ax.set_xticks(numpy.arange(0, 21, 5))\n",
    "ax.xaxis.set_minor_locator(ticker.MultipleLocator(1))\n",
    "ax.set_ylim(0, 20)\n",
    "ax.set_yticks(numpy.arange(0, 21, 5))\n",
    "ax.yaxis.set_minor_locator(ticker.MultipleLocator(1))\n",
    "\n",
    "ax.scatter(data[0].tolist(), data[1].tolist(), s=5, c=\"blue\")\n",
    "\n",
    "k = 12\n",
    "p0 = numpy.array(r * numpy.matrix([x0, y0]).T).T[0] - k * model.components_[0]\n",
    "p1 = numpy.array(r * numpy.matrix([x0, y0]).T).T[0] + k * model.components_[0]\n",
    "p = numpy.array([p0, p1]).T\n",
    "ax.plot(p[0], p[1], c=\"red\")\n",
    "\n",
    "k = 5\n",
    "p0 = numpy.array(r * numpy.matrix([x0, y0]).T).T[0] - k * model.components_[1]\n",
    "p1 = numpy.array(r * numpy.matrix([x0, y0]).T).T[0] + k * model.components_[1]\n",
    "p = numpy.array([p0, p1]).T\n",
    "ax.plot(p[0], p[1], c=\"red\")\n",
    "\n",
    "ax.text(16.5,16,\"PC1\", c='red')\n",
    "ax.text(4.8,12.5,\"PC2\", c='red')\n",
    "\n",
    "pyplot.show()"
   ]
  }
 ],
 "metadata": {
  "interpreter": {
   "hash": "398c91425ba9501ad3ceb4348a18eb4e653d71098c9fe91723be7ca895e75769"
  },
  "kernelspec": {
   "display_name": "Python 3.8.11 64-bit ('base': conda)",
   "name": "python3"
  },
  "language_info": {
   "codemirror_mode": {
    "name": "ipython",
    "version": 3
   },
   "file_extension": ".py",
   "mimetype": "text/x-python",
   "name": "python",
   "nbconvert_exporter": "python",
   "pygments_lexer": "ipython3",
   "version": "3.9.7"
  },
  "orig_nbformat": 4
 },
 "nbformat": 4,
 "nbformat_minor": 2
}
