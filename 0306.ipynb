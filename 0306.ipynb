{
 "cells": [
  {
   "cell_type": "markdown",
   "metadata": {},
   "source": [
    "## Python で始める機器分析データの解析とケモメトリックス  \n",
    "### 3.6. 仮説検定"
   ]
  },
  {
   "cell_type": "code",
   "execution_count": null,
   "metadata": {},
   "outputs": [],
   "source": [
    "import numpy\n",
    "import pandas\n",
    "from matplotlib import pyplot"
   ]
  },
  {
   "cell_type": "markdown",
   "metadata": {},
   "source": [
    "統計モジュール：scipy.stats  \n",
    "https://docs.scipy.org/doc/scipy/reference/stats.html"
   ]
  },
  {
   "cell_type": "code",
   "execution_count": null,
   "metadata": {},
   "outputs": [],
   "source": [
    "#p.058\n",
    "from scipy import stats"
   ]
  },
  {
   "cell_type": "code",
   "execution_count": null,
   "metadata": {},
   "outputs": [],
   "source": [
    "#p.058\n",
    "df = pandas.read_csv(\"prop3.csv\", header=0, index_col=0)\n",
    "x = df.iloc[:, 0]  # 水分\n",
    "y = df.iloc[:, 1]  # 油分"
   ]
  },
  {
   "cell_type": "code",
   "execution_count": null,
   "metadata": {},
   "outputs": [],
   "source": [
    "#p.058\n",
    "x1 = x[x < x.median()]  # 水分が少ないトウモロコシ\n",
    "x2 = x[x.median() < x]  # 水分が多いトウモロコシ"
   ]
  },
  {
   "cell_type": "code",
   "execution_count": null,
   "metadata": {},
   "outputs": [],
   "source": [
    "#p.058\n",
    "y1 = y[x1.index]  # 水分が少ないトウモロコシの油分\n",
    "y2 = y[x2.index]  # 水分が多いトウモロコシの油分"
   ]
  },
  {
   "cell_type": "code",
   "execution_count": null,
   "metadata": {},
   "outputs": [],
   "source": [
    "#p.058\n",
    "pyplot.xlim(0.5, 2.5)\n",
    "pyplot.errorbar(1, y1.mean(), fmt=\"o\", yerr=y1.std(ddof=1), capsize=5)\n",
    "pyplot.errorbar(2, y2.mean(), fmt=\"o\", yerr=y2.std(ddof=1), capsize=5)\n",
    "pyplot.show()"
   ]
  },
  {
   "cell_type": "markdown",
   "metadata": {},
   "source": [
    "Shapiro-Wilk 検定：scipy.stats.shapiro  \n",
    "https://docs.scipy.org/doc/scipy/reference/generated/scipy.stats.shapiro.html  "
   ]
  },
  {
   "cell_type": "code",
   "execution_count": null,
   "metadata": {},
   "outputs": [],
   "source": [
    "#p.059\n",
    "print(stats.shapiro(y1))\n",
    "print(stats.shapiro(y2))"
   ]
  },
  {
   "cell_type": "markdown",
   "metadata": {},
   "source": [
    "Q-Q プロット：scipy.stats.probplot  \n",
    "https://docs.scipy.org/doc/scipy/reference/generated/scipy.stats.probplot.html"
   ]
  },
  {
   "cell_type": "code",
   "execution_count": null,
   "metadata": {},
   "outputs": [],
   "source": [
    "#p.060\n",
    "stats.probplot(y1, dist=\"norm\", plot=pyplot)\n",
    "stats.probplot(y2, dist=\"norm\", plot=pyplot)\n",
    "pyplot.show()"
   ]
  },
  {
   "cell_type": "markdown",
   "metadata": {},
   "source": [
    "t 検定  \n",
    "1群：scipy.stats.ttest_1samp  \n",
    "https://docs.scipy.org/doc/scipy/reference/generated/scipy.stats.ttest_1samp.html  \n",
    "対応のある2群：scipy.stats.ttest_rel  \n",
    "https://docs.scipy.org/doc/scipy/reference/generated/scipy.stats.ttest_rel.html  \n",
    "対応のない2群：scipy.stats.ttest_ind  \n",
    "https://docs.scipy.org/doc/scipy/reference/generated/scipy.stats.ttest_ind.html"
   ]
  },
  {
   "cell_type": "code",
   "execution_count": null,
   "metadata": {},
   "outputs": [],
   "source": [
    "#p.062\n",
    "# print(stats.ttest_1samp(y1,3.543)) # 1群\n",
    "# print(stats.ttest_rel(y1,y2)) #対応のある2群\n",
    "print(stats.ttest_ind(y1, y2, equal_var=False))  # 対応のない2群"
   ]
  },
  {
   "cell_type": "markdown",
   "metadata": {},
   "source": [
    "F 検定"
   ]
  },
  {
   "cell_type": "code",
   "execution_count": null,
   "metadata": {},
   "outputs": [],
   "source": [
    "#p.062\n",
    "def ftest(a, b):\n",
    "    f = numpy.var(a, ddof=1) / numpy.var(b, ddof=1)\n",
    "    p = stats.f.cdf(f, len(a) - 1, len(b) - 1)\n",
    "    p = min(p, 1 - p) * 2\n",
    "    return f, p\n",
    "print(ftest(y1, y2))"
   ]
  },
  {
   "cell_type": "markdown",
   "metadata": {},
   "source": [
    "分散分析 (ANOVA)  \n",
    "scipy.stats.f_oneway: https://docs.scipy.org/doc/scipy/reference/generated/scipy.stats.f_oneway.html"
   ]
  },
  {
   "cell_type": "code",
   "execution_count": null,
   "metadata": {},
   "outputs": [],
   "source": [
    "x_1 = x[x < x.quantile(q=1 / 3)]\n",
    "x_2 = x[(x.quantile(q=1 / 3) < x) & (x < x.quantile(q=2 / 3))]\n",
    "x_3 = x[x.quantile(q=2 / 3) < x]\n",
    "y_1 = y[x_1.index]\n",
    "y_2 = y[x_2.index]\n",
    "y_3 = y[x_3.index]\n",
    "stats.f_oneway(y_1, y_2, y_3)"
   ]
  },
  {
   "cell_type": "markdown",
   "metadata": {},
   "source": [
    "(c) Shigeaki Morita"
   ]
  }
 ],
 "metadata": {
  "kernelspec": {
   "display_name": "Python 3.9.13 ('base')",
   "language": "python",
   "name": "python3"
  },
  "language_info": {
   "codemirror_mode": {
    "name": "ipython",
    "version": 3
   },
   "file_extension": ".py",
   "mimetype": "text/x-python",
   "name": "python",
   "nbconvert_exporter": "python",
   "pygments_lexer": "ipython3",
   "version": "3.9.13"
  },
  "vscode": {
   "interpreter": {
    "hash": "aa931a12cd616f100a3dbf0df00067e1067e9b65b97740d9adc59c84adb05e7e"
   }
  }
 },
 "nbformat": 4,
 "nbformat_minor": 4
}
