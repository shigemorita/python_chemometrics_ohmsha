{
 "cells": [
  {
   "cell_type": "markdown",
   "metadata": {},
   "source": [
    "## Python で始める機器分析データの解析とケモメトリックス  \n",
    "\n",
    "### 11. 二次元相関分光法"
   ]
  },
  {
   "cell_type": "code",
   "execution_count": null,
   "metadata": {},
   "outputs": [],
   "source": [
    "import numpy\n",
    "import pandas\n",
    "from matplotlib import pyplot"
   ]
  },
  {
   "cell_type": "markdown",
   "metadata": {},
   "source": [
    "シグモイド関数  \n",
    "$$p(t)=\\frac{1}{1+ \\exp (-t)}$$"
   ]
  },
  {
   "cell_type": "code",
   "execution_count": null,
   "metadata": {},
   "outputs": [],
   "source": [
    "#p.189\n",
    "t = numpy.arange(0, 11, 1)\n",
    "p1 = 1 / (1 + numpy.exp(-1 * (t - 4)))\n",
    "p2 = 1 / (1 + numpy.exp(-1 * (t - 6)))\n",
    "p3 = 1 - 1 / (1 + numpy.exp(-1 * (t - 4)))\n",
    "p4 = 1 - 1 / (1 + numpy.exp(-1 * (t - 6)))\n",
    "pyplot.plot(t, p1, label=\"20\")\n",
    "pyplot.plot(t, p2, label=\"40\")\n",
    "pyplot.plot(t, p3, label=\"60\")\n",
    "pyplot.plot(t, p4, label=\"80\")\n",
    "pyplot.legend()\n",
    "pyplot.show()"
   ]
  },
  {
   "cell_type": "code",
   "execution_count": null,
   "metadata": {},
   "outputs": [],
   "source": [
    "#p.190\n",
    "x = numpy.arange(0, 101, 1)\n",
    "y1 = numpy.array([p1]).T * numpy.exp(-4 * numpy.log(2) * (x - 20) ** 2 / 90)\n",
    "y2 = numpy.array([p2]).T * numpy.exp(-4 * numpy.log(2) * (x - 40) ** 2 / 90)\n",
    "y3 = numpy.array([p3]).T * numpy.exp(-4 * numpy.log(2) * (x - 60) ** 2 / 90)\n",
    "y4 = numpy.array([p4]).T * numpy.exp(-4 * numpy.log(2) * (x - 80) ** 2 / 90)\n",
    "y = y1 + y2 + y3 + y4\n",
    "data = pandas.DataFrame(y, index=t, columns=x)\n",
    "data.T.plot(legend=False)\n",
    "data.T.to_csv(\"data7.csv\")"
   ]
  },
  {
   "cell_type": "markdown",
   "metadata": {},
   "source": [
    "(c) Shigeaki Morita"
   ]
  }
 ],
 "metadata": {
  "kernelspec": {
   "display_name": "Python 3.9.13 ('base')",
   "language": "python",
   "name": "python3"
  },
  "language_info": {
   "codemirror_mode": {
    "name": "ipython",
    "version": 3
   },
   "file_extension": ".py",
   "mimetype": "text/x-python",
   "name": "python",
   "nbconvert_exporter": "python",
   "pygments_lexer": "ipython3",
   "version": "3.9.13"
  },
  "vscode": {
   "interpreter": {
    "hash": "aa931a12cd616f100a3dbf0df00067e1067e9b65b97740d9adc59c84adb05e7e"
   }
  }
 },
 "nbformat": 4,
 "nbformat_minor": 2
}
